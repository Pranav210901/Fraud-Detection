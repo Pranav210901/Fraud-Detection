{
 "cells": [
  {
   "cell_type": "code",
   "execution_count": 1,
   "id": "cafe5c9d",
   "metadata": {
    "_cell_guid": "b1076dfc-b9ad-4769-8c92-a6c4dae69d19",
    "_uuid": "8f2839f25d086af736a60e9eeb907d3b93b6e0e5",
    "execution": {
     "iopub.execute_input": "2024-09-25T07:54:37.148302Z",
     "iopub.status.busy": "2024-09-25T07:54:37.147863Z",
     "iopub.status.idle": "2024-09-25T07:54:38.136437Z",
     "shell.execute_reply": "2024-09-25T07:54:38.134962Z"
    },
    "papermill": {
     "duration": 1.006896,
     "end_time": "2024-09-25T07:54:38.139353",
     "exception": false,
     "start_time": "2024-09-25T07:54:37.132457",
     "status": "completed"
    },
    "tags": []
   },
   "outputs": [
    {
     "name": "stdout",
     "output_type": "stream",
     "text": [
      "/kaggle/input/creditcardfraud/creditcard.csv\n"
     ]
    }
   ],
   "source": [
    "import numpy as np # linear algebra\n",
    "import pandas as pd # data processing, CSV file I/O (e.g. pd.read_csv)\n",
    "import os\n",
    "for dirname, _, filenames in os.walk('/kaggle/input'):\n",
    "    for filename in filenames:\n",
    "        print(os.path.join(dirname, filename))"
   ]
  },
  {
   "cell_type": "code",
   "execution_count": 2,
   "id": "d9b54ded",
   "metadata": {
    "execution": {
     "iopub.execute_input": "2024-09-25T07:54:38.168344Z",
     "iopub.status.busy": "2024-09-25T07:54:38.167783Z",
     "iopub.status.idle": "2024-09-25T07:54:39.970430Z",
     "shell.execute_reply": "2024-09-25T07:54:39.968961Z"
    },
    "papermill": {
     "duration": 1.820641,
     "end_time": "2024-09-25T07:54:39.973489",
     "exception": false,
     "start_time": "2024-09-25T07:54:38.152848",
     "status": "completed"
    },
    "tags": []
   },
   "outputs": [],
   "source": [
    "from sklearn.model_selection import train_test_split\n",
    "from sklearn.linear_model import LogisticRegression\n",
    "from sklearn.metrics import accuracy_score"
   ]
  },
  {
   "cell_type": "code",
   "execution_count": 3,
   "id": "4c84bf21",
   "metadata": {
    "execution": {
     "iopub.execute_input": "2024-09-25T07:54:40.004299Z",
     "iopub.status.busy": "2024-09-25T07:54:40.003694Z",
     "iopub.status.idle": "2024-09-25T07:54:45.298906Z",
     "shell.execute_reply": "2024-09-25T07:54:45.297441Z"
    },
    "papermill": {
     "duration": 5.314055,
     "end_time": "2024-09-25T07:54:45.301525",
     "exception": false,
     "start_time": "2024-09-25T07:54:39.987470",
     "status": "completed"
    },
    "tags": []
   },
   "outputs": [
    {
     "data": {
      "text/html": [
       "<div>\n",
       "<style scoped>\n",
       "    .dataframe tbody tr th:only-of-type {\n",
       "        vertical-align: middle;\n",
       "    }\n",
       "\n",
       "    .dataframe tbody tr th {\n",
       "        vertical-align: top;\n",
       "    }\n",
       "\n",
       "    .dataframe thead th {\n",
       "        text-align: right;\n",
       "    }\n",
       "</style>\n",
       "<table border=\"1\" class=\"dataframe\">\n",
       "  <thead>\n",
       "    <tr style=\"text-align: right;\">\n",
       "      <th></th>\n",
       "      <th>Time</th>\n",
       "      <th>V1</th>\n",
       "      <th>V2</th>\n",
       "      <th>V3</th>\n",
       "      <th>V4</th>\n",
       "      <th>V5</th>\n",
       "      <th>V6</th>\n",
       "      <th>V7</th>\n",
       "      <th>V8</th>\n",
       "      <th>V9</th>\n",
       "      <th>...</th>\n",
       "      <th>V21</th>\n",
       "      <th>V22</th>\n",
       "      <th>V23</th>\n",
       "      <th>V24</th>\n",
       "      <th>V25</th>\n",
       "      <th>V26</th>\n",
       "      <th>V27</th>\n",
       "      <th>V28</th>\n",
       "      <th>Amount</th>\n",
       "      <th>Class</th>\n",
       "    </tr>\n",
       "  </thead>\n",
       "  <tbody>\n",
       "    <tr>\n",
       "      <th>0</th>\n",
       "      <td>0.0</td>\n",
       "      <td>-1.359807</td>\n",
       "      <td>-0.072781</td>\n",
       "      <td>2.536347</td>\n",
       "      <td>1.378155</td>\n",
       "      <td>-0.338321</td>\n",
       "      <td>0.462388</td>\n",
       "      <td>0.239599</td>\n",
       "      <td>0.098698</td>\n",
       "      <td>0.363787</td>\n",
       "      <td>...</td>\n",
       "      <td>-0.018307</td>\n",
       "      <td>0.277838</td>\n",
       "      <td>-0.110474</td>\n",
       "      <td>0.066928</td>\n",
       "      <td>0.128539</td>\n",
       "      <td>-0.189115</td>\n",
       "      <td>0.133558</td>\n",
       "      <td>-0.021053</td>\n",
       "      <td>149.62</td>\n",
       "      <td>0</td>\n",
       "    </tr>\n",
       "    <tr>\n",
       "      <th>1</th>\n",
       "      <td>0.0</td>\n",
       "      <td>1.191857</td>\n",
       "      <td>0.266151</td>\n",
       "      <td>0.166480</td>\n",
       "      <td>0.448154</td>\n",
       "      <td>0.060018</td>\n",
       "      <td>-0.082361</td>\n",
       "      <td>-0.078803</td>\n",
       "      <td>0.085102</td>\n",
       "      <td>-0.255425</td>\n",
       "      <td>...</td>\n",
       "      <td>-0.225775</td>\n",
       "      <td>-0.638672</td>\n",
       "      <td>0.101288</td>\n",
       "      <td>-0.339846</td>\n",
       "      <td>0.167170</td>\n",
       "      <td>0.125895</td>\n",
       "      <td>-0.008983</td>\n",
       "      <td>0.014724</td>\n",
       "      <td>2.69</td>\n",
       "      <td>0</td>\n",
       "    </tr>\n",
       "    <tr>\n",
       "      <th>2</th>\n",
       "      <td>1.0</td>\n",
       "      <td>-1.358354</td>\n",
       "      <td>-1.340163</td>\n",
       "      <td>1.773209</td>\n",
       "      <td>0.379780</td>\n",
       "      <td>-0.503198</td>\n",
       "      <td>1.800499</td>\n",
       "      <td>0.791461</td>\n",
       "      <td>0.247676</td>\n",
       "      <td>-1.514654</td>\n",
       "      <td>...</td>\n",
       "      <td>0.247998</td>\n",
       "      <td>0.771679</td>\n",
       "      <td>0.909412</td>\n",
       "      <td>-0.689281</td>\n",
       "      <td>-0.327642</td>\n",
       "      <td>-0.139097</td>\n",
       "      <td>-0.055353</td>\n",
       "      <td>-0.059752</td>\n",
       "      <td>378.66</td>\n",
       "      <td>0</td>\n",
       "    </tr>\n",
       "    <tr>\n",
       "      <th>3</th>\n",
       "      <td>1.0</td>\n",
       "      <td>-0.966272</td>\n",
       "      <td>-0.185226</td>\n",
       "      <td>1.792993</td>\n",
       "      <td>-0.863291</td>\n",
       "      <td>-0.010309</td>\n",
       "      <td>1.247203</td>\n",
       "      <td>0.237609</td>\n",
       "      <td>0.377436</td>\n",
       "      <td>-1.387024</td>\n",
       "      <td>...</td>\n",
       "      <td>-0.108300</td>\n",
       "      <td>0.005274</td>\n",
       "      <td>-0.190321</td>\n",
       "      <td>-1.175575</td>\n",
       "      <td>0.647376</td>\n",
       "      <td>-0.221929</td>\n",
       "      <td>0.062723</td>\n",
       "      <td>0.061458</td>\n",
       "      <td>123.50</td>\n",
       "      <td>0</td>\n",
       "    </tr>\n",
       "    <tr>\n",
       "      <th>4</th>\n",
       "      <td>2.0</td>\n",
       "      <td>-1.158233</td>\n",
       "      <td>0.877737</td>\n",
       "      <td>1.548718</td>\n",
       "      <td>0.403034</td>\n",
       "      <td>-0.407193</td>\n",
       "      <td>0.095921</td>\n",
       "      <td>0.592941</td>\n",
       "      <td>-0.270533</td>\n",
       "      <td>0.817739</td>\n",
       "      <td>...</td>\n",
       "      <td>-0.009431</td>\n",
       "      <td>0.798278</td>\n",
       "      <td>-0.137458</td>\n",
       "      <td>0.141267</td>\n",
       "      <td>-0.206010</td>\n",
       "      <td>0.502292</td>\n",
       "      <td>0.219422</td>\n",
       "      <td>0.215153</td>\n",
       "      <td>69.99</td>\n",
       "      <td>0</td>\n",
       "    </tr>\n",
       "    <tr>\n",
       "      <th>5</th>\n",
       "      <td>2.0</td>\n",
       "      <td>-0.425966</td>\n",
       "      <td>0.960523</td>\n",
       "      <td>1.141109</td>\n",
       "      <td>-0.168252</td>\n",
       "      <td>0.420987</td>\n",
       "      <td>-0.029728</td>\n",
       "      <td>0.476201</td>\n",
       "      <td>0.260314</td>\n",
       "      <td>-0.568671</td>\n",
       "      <td>...</td>\n",
       "      <td>-0.208254</td>\n",
       "      <td>-0.559825</td>\n",
       "      <td>-0.026398</td>\n",
       "      <td>-0.371427</td>\n",
       "      <td>-0.232794</td>\n",
       "      <td>0.105915</td>\n",
       "      <td>0.253844</td>\n",
       "      <td>0.081080</td>\n",
       "      <td>3.67</td>\n",
       "      <td>0</td>\n",
       "    </tr>\n",
       "    <tr>\n",
       "      <th>6</th>\n",
       "      <td>4.0</td>\n",
       "      <td>1.229658</td>\n",
       "      <td>0.141004</td>\n",
       "      <td>0.045371</td>\n",
       "      <td>1.202613</td>\n",
       "      <td>0.191881</td>\n",
       "      <td>0.272708</td>\n",
       "      <td>-0.005159</td>\n",
       "      <td>0.081213</td>\n",
       "      <td>0.464960</td>\n",
       "      <td>...</td>\n",
       "      <td>-0.167716</td>\n",
       "      <td>-0.270710</td>\n",
       "      <td>-0.154104</td>\n",
       "      <td>-0.780055</td>\n",
       "      <td>0.750137</td>\n",
       "      <td>-0.257237</td>\n",
       "      <td>0.034507</td>\n",
       "      <td>0.005168</td>\n",
       "      <td>4.99</td>\n",
       "      <td>0</td>\n",
       "    </tr>\n",
       "    <tr>\n",
       "      <th>7</th>\n",
       "      <td>7.0</td>\n",
       "      <td>-0.644269</td>\n",
       "      <td>1.417964</td>\n",
       "      <td>1.074380</td>\n",
       "      <td>-0.492199</td>\n",
       "      <td>0.948934</td>\n",
       "      <td>0.428118</td>\n",
       "      <td>1.120631</td>\n",
       "      <td>-3.807864</td>\n",
       "      <td>0.615375</td>\n",
       "      <td>...</td>\n",
       "      <td>1.943465</td>\n",
       "      <td>-1.015455</td>\n",
       "      <td>0.057504</td>\n",
       "      <td>-0.649709</td>\n",
       "      <td>-0.415267</td>\n",
       "      <td>-0.051634</td>\n",
       "      <td>-1.206921</td>\n",
       "      <td>-1.085339</td>\n",
       "      <td>40.80</td>\n",
       "      <td>0</td>\n",
       "    </tr>\n",
       "    <tr>\n",
       "      <th>8</th>\n",
       "      <td>7.0</td>\n",
       "      <td>-0.894286</td>\n",
       "      <td>0.286157</td>\n",
       "      <td>-0.113192</td>\n",
       "      <td>-0.271526</td>\n",
       "      <td>2.669599</td>\n",
       "      <td>3.721818</td>\n",
       "      <td>0.370145</td>\n",
       "      <td>0.851084</td>\n",
       "      <td>-0.392048</td>\n",
       "      <td>...</td>\n",
       "      <td>-0.073425</td>\n",
       "      <td>-0.268092</td>\n",
       "      <td>-0.204233</td>\n",
       "      <td>1.011592</td>\n",
       "      <td>0.373205</td>\n",
       "      <td>-0.384157</td>\n",
       "      <td>0.011747</td>\n",
       "      <td>0.142404</td>\n",
       "      <td>93.20</td>\n",
       "      <td>0</td>\n",
       "    </tr>\n",
       "    <tr>\n",
       "      <th>9</th>\n",
       "      <td>9.0</td>\n",
       "      <td>-0.338262</td>\n",
       "      <td>1.119593</td>\n",
       "      <td>1.044367</td>\n",
       "      <td>-0.222187</td>\n",
       "      <td>0.499361</td>\n",
       "      <td>-0.246761</td>\n",
       "      <td>0.651583</td>\n",
       "      <td>0.069539</td>\n",
       "      <td>-0.736727</td>\n",
       "      <td>...</td>\n",
       "      <td>-0.246914</td>\n",
       "      <td>-0.633753</td>\n",
       "      <td>-0.120794</td>\n",
       "      <td>-0.385050</td>\n",
       "      <td>-0.069733</td>\n",
       "      <td>0.094199</td>\n",
       "      <td>0.246219</td>\n",
       "      <td>0.083076</td>\n",
       "      <td>3.68</td>\n",
       "      <td>0</td>\n",
       "    </tr>\n",
       "  </tbody>\n",
       "</table>\n",
       "<p>10 rows × 31 columns</p>\n",
       "</div>"
      ],
      "text/plain": [
       "   Time        V1        V2        V3        V4        V5        V6        V7  \\\n",
       "0   0.0 -1.359807 -0.072781  2.536347  1.378155 -0.338321  0.462388  0.239599   \n",
       "1   0.0  1.191857  0.266151  0.166480  0.448154  0.060018 -0.082361 -0.078803   \n",
       "2   1.0 -1.358354 -1.340163  1.773209  0.379780 -0.503198  1.800499  0.791461   \n",
       "3   1.0 -0.966272 -0.185226  1.792993 -0.863291 -0.010309  1.247203  0.237609   \n",
       "4   2.0 -1.158233  0.877737  1.548718  0.403034 -0.407193  0.095921  0.592941   \n",
       "5   2.0 -0.425966  0.960523  1.141109 -0.168252  0.420987 -0.029728  0.476201   \n",
       "6   4.0  1.229658  0.141004  0.045371  1.202613  0.191881  0.272708 -0.005159   \n",
       "7   7.0 -0.644269  1.417964  1.074380 -0.492199  0.948934  0.428118  1.120631   \n",
       "8   7.0 -0.894286  0.286157 -0.113192 -0.271526  2.669599  3.721818  0.370145   \n",
       "9   9.0 -0.338262  1.119593  1.044367 -0.222187  0.499361 -0.246761  0.651583   \n",
       "\n",
       "         V8        V9  ...       V21       V22       V23       V24       V25  \\\n",
       "0  0.098698  0.363787  ... -0.018307  0.277838 -0.110474  0.066928  0.128539   \n",
       "1  0.085102 -0.255425  ... -0.225775 -0.638672  0.101288 -0.339846  0.167170   \n",
       "2  0.247676 -1.514654  ...  0.247998  0.771679  0.909412 -0.689281 -0.327642   \n",
       "3  0.377436 -1.387024  ... -0.108300  0.005274 -0.190321 -1.175575  0.647376   \n",
       "4 -0.270533  0.817739  ... -0.009431  0.798278 -0.137458  0.141267 -0.206010   \n",
       "5  0.260314 -0.568671  ... -0.208254 -0.559825 -0.026398 -0.371427 -0.232794   \n",
       "6  0.081213  0.464960  ... -0.167716 -0.270710 -0.154104 -0.780055  0.750137   \n",
       "7 -3.807864  0.615375  ...  1.943465 -1.015455  0.057504 -0.649709 -0.415267   \n",
       "8  0.851084 -0.392048  ... -0.073425 -0.268092 -0.204233  1.011592  0.373205   \n",
       "9  0.069539 -0.736727  ... -0.246914 -0.633753 -0.120794 -0.385050 -0.069733   \n",
       "\n",
       "        V26       V27       V28  Amount  Class  \n",
       "0 -0.189115  0.133558 -0.021053  149.62      0  \n",
       "1  0.125895 -0.008983  0.014724    2.69      0  \n",
       "2 -0.139097 -0.055353 -0.059752  378.66      0  \n",
       "3 -0.221929  0.062723  0.061458  123.50      0  \n",
       "4  0.502292  0.219422  0.215153   69.99      0  \n",
       "5  0.105915  0.253844  0.081080    3.67      0  \n",
       "6 -0.257237  0.034507  0.005168    4.99      0  \n",
       "7 -0.051634 -1.206921 -1.085339   40.80      0  \n",
       "8 -0.384157  0.011747  0.142404   93.20      0  \n",
       "9  0.094199  0.246219  0.083076    3.68      0  \n",
       "\n",
       "[10 rows x 31 columns]"
      ]
     },
     "execution_count": 3,
     "metadata": {},
     "output_type": "execute_result"
    }
   ],
   "source": [
    "# credit card data\n",
    "df = pd.read_csv(\"/kaggle/input/creditcardfraud/creditcard.csv\")\n",
    "df.head(10)\n",
    "#pca on credit card information to get v_ data since it's sensitive data"
   ]
  },
  {
   "cell_type": "code",
   "execution_count": 4,
   "id": "407862d4",
   "metadata": {
    "execution": {
     "iopub.execute_input": "2024-09-25T07:54:45.330945Z",
     "iopub.status.busy": "2024-09-25T07:54:45.330529Z",
     "iopub.status.idle": "2024-09-25T07:54:45.365006Z",
     "shell.execute_reply": "2024-09-25T07:54:45.363656Z"
    },
    "papermill": {
     "duration": 0.052246,
     "end_time": "2024-09-25T07:54:45.367644",
     "exception": false,
     "start_time": "2024-09-25T07:54:45.315398",
     "status": "completed"
    },
    "tags": []
   },
   "outputs": [
    {
     "data": {
      "text/html": [
       "<div>\n",
       "<style scoped>\n",
       "    .dataframe tbody tr th:only-of-type {\n",
       "        vertical-align: middle;\n",
       "    }\n",
       "\n",
       "    .dataframe tbody tr th {\n",
       "        vertical-align: top;\n",
       "    }\n",
       "\n",
       "    .dataframe thead th {\n",
       "        text-align: right;\n",
       "    }\n",
       "</style>\n",
       "<table border=\"1\" class=\"dataframe\">\n",
       "  <thead>\n",
       "    <tr style=\"text-align: right;\">\n",
       "      <th></th>\n",
       "      <th>Time</th>\n",
       "      <th>V1</th>\n",
       "      <th>V2</th>\n",
       "      <th>V3</th>\n",
       "      <th>V4</th>\n",
       "      <th>V5</th>\n",
       "      <th>V6</th>\n",
       "      <th>V7</th>\n",
       "      <th>V8</th>\n",
       "      <th>V9</th>\n",
       "      <th>...</th>\n",
       "      <th>V21</th>\n",
       "      <th>V22</th>\n",
       "      <th>V23</th>\n",
       "      <th>V24</th>\n",
       "      <th>V25</th>\n",
       "      <th>V26</th>\n",
       "      <th>V27</th>\n",
       "      <th>V28</th>\n",
       "      <th>Amount</th>\n",
       "      <th>Class</th>\n",
       "    </tr>\n",
       "  </thead>\n",
       "  <tbody>\n",
       "    <tr>\n",
       "      <th>284797</th>\n",
       "      <td>172782.0</td>\n",
       "      <td>-0.241923</td>\n",
       "      <td>0.712247</td>\n",
       "      <td>0.399806</td>\n",
       "      <td>-0.463406</td>\n",
       "      <td>0.244531</td>\n",
       "      <td>-1.343668</td>\n",
       "      <td>0.929369</td>\n",
       "      <td>-0.206210</td>\n",
       "      <td>0.106234</td>\n",
       "      <td>...</td>\n",
       "      <td>-0.228876</td>\n",
       "      <td>-0.514376</td>\n",
       "      <td>0.279598</td>\n",
       "      <td>0.371441</td>\n",
       "      <td>-0.559238</td>\n",
       "      <td>0.113144</td>\n",
       "      <td>0.131507</td>\n",
       "      <td>0.081265</td>\n",
       "      <td>5.49</td>\n",
       "      <td>0</td>\n",
       "    </tr>\n",
       "    <tr>\n",
       "      <th>284798</th>\n",
       "      <td>172782.0</td>\n",
       "      <td>0.219529</td>\n",
       "      <td>0.881246</td>\n",
       "      <td>-0.635891</td>\n",
       "      <td>0.960928</td>\n",
       "      <td>-0.152971</td>\n",
       "      <td>-1.014307</td>\n",
       "      <td>0.427126</td>\n",
       "      <td>0.121340</td>\n",
       "      <td>-0.285670</td>\n",
       "      <td>...</td>\n",
       "      <td>0.099936</td>\n",
       "      <td>0.337120</td>\n",
       "      <td>0.251791</td>\n",
       "      <td>0.057688</td>\n",
       "      <td>-1.508368</td>\n",
       "      <td>0.144023</td>\n",
       "      <td>0.181205</td>\n",
       "      <td>0.215243</td>\n",
       "      <td>24.05</td>\n",
       "      <td>0</td>\n",
       "    </tr>\n",
       "    <tr>\n",
       "      <th>284799</th>\n",
       "      <td>172783.0</td>\n",
       "      <td>-1.775135</td>\n",
       "      <td>-0.004235</td>\n",
       "      <td>1.189786</td>\n",
       "      <td>0.331096</td>\n",
       "      <td>1.196063</td>\n",
       "      <td>5.519980</td>\n",
       "      <td>-1.518185</td>\n",
       "      <td>2.080825</td>\n",
       "      <td>1.159498</td>\n",
       "      <td>...</td>\n",
       "      <td>0.103302</td>\n",
       "      <td>0.654850</td>\n",
       "      <td>-0.348929</td>\n",
       "      <td>0.745323</td>\n",
       "      <td>0.704545</td>\n",
       "      <td>-0.127579</td>\n",
       "      <td>0.454379</td>\n",
       "      <td>0.130308</td>\n",
       "      <td>79.99</td>\n",
       "      <td>0</td>\n",
       "    </tr>\n",
       "    <tr>\n",
       "      <th>284800</th>\n",
       "      <td>172784.0</td>\n",
       "      <td>2.039560</td>\n",
       "      <td>-0.175233</td>\n",
       "      <td>-1.196825</td>\n",
       "      <td>0.234580</td>\n",
       "      <td>-0.008713</td>\n",
       "      <td>-0.726571</td>\n",
       "      <td>0.017050</td>\n",
       "      <td>-0.118228</td>\n",
       "      <td>0.435402</td>\n",
       "      <td>...</td>\n",
       "      <td>-0.268048</td>\n",
       "      <td>-0.717211</td>\n",
       "      <td>0.297930</td>\n",
       "      <td>-0.359769</td>\n",
       "      <td>-0.315610</td>\n",
       "      <td>0.201114</td>\n",
       "      <td>-0.080826</td>\n",
       "      <td>-0.075071</td>\n",
       "      <td>2.68</td>\n",
       "      <td>0</td>\n",
       "    </tr>\n",
       "    <tr>\n",
       "      <th>284801</th>\n",
       "      <td>172785.0</td>\n",
       "      <td>0.120316</td>\n",
       "      <td>0.931005</td>\n",
       "      <td>-0.546012</td>\n",
       "      <td>-0.745097</td>\n",
       "      <td>1.130314</td>\n",
       "      <td>-0.235973</td>\n",
       "      <td>0.812722</td>\n",
       "      <td>0.115093</td>\n",
       "      <td>-0.204064</td>\n",
       "      <td>...</td>\n",
       "      <td>-0.314205</td>\n",
       "      <td>-0.808520</td>\n",
       "      <td>0.050343</td>\n",
       "      <td>0.102800</td>\n",
       "      <td>-0.435870</td>\n",
       "      <td>0.124079</td>\n",
       "      <td>0.217940</td>\n",
       "      <td>0.068803</td>\n",
       "      <td>2.69</td>\n",
       "      <td>0</td>\n",
       "    </tr>\n",
       "    <tr>\n",
       "      <th>284802</th>\n",
       "      <td>172786.0</td>\n",
       "      <td>-11.881118</td>\n",
       "      <td>10.071785</td>\n",
       "      <td>-9.834783</td>\n",
       "      <td>-2.066656</td>\n",
       "      <td>-5.364473</td>\n",
       "      <td>-2.606837</td>\n",
       "      <td>-4.918215</td>\n",
       "      <td>7.305334</td>\n",
       "      <td>1.914428</td>\n",
       "      <td>...</td>\n",
       "      <td>0.213454</td>\n",
       "      <td>0.111864</td>\n",
       "      <td>1.014480</td>\n",
       "      <td>-0.509348</td>\n",
       "      <td>1.436807</td>\n",
       "      <td>0.250034</td>\n",
       "      <td>0.943651</td>\n",
       "      <td>0.823731</td>\n",
       "      <td>0.77</td>\n",
       "      <td>0</td>\n",
       "    </tr>\n",
       "    <tr>\n",
       "      <th>284803</th>\n",
       "      <td>172787.0</td>\n",
       "      <td>-0.732789</td>\n",
       "      <td>-0.055080</td>\n",
       "      <td>2.035030</td>\n",
       "      <td>-0.738589</td>\n",
       "      <td>0.868229</td>\n",
       "      <td>1.058415</td>\n",
       "      <td>0.024330</td>\n",
       "      <td>0.294869</td>\n",
       "      <td>0.584800</td>\n",
       "      <td>...</td>\n",
       "      <td>0.214205</td>\n",
       "      <td>0.924384</td>\n",
       "      <td>0.012463</td>\n",
       "      <td>-1.016226</td>\n",
       "      <td>-0.606624</td>\n",
       "      <td>-0.395255</td>\n",
       "      <td>0.068472</td>\n",
       "      <td>-0.053527</td>\n",
       "      <td>24.79</td>\n",
       "      <td>0</td>\n",
       "    </tr>\n",
       "    <tr>\n",
       "      <th>284804</th>\n",
       "      <td>172788.0</td>\n",
       "      <td>1.919565</td>\n",
       "      <td>-0.301254</td>\n",
       "      <td>-3.249640</td>\n",
       "      <td>-0.557828</td>\n",
       "      <td>2.630515</td>\n",
       "      <td>3.031260</td>\n",
       "      <td>-0.296827</td>\n",
       "      <td>0.708417</td>\n",
       "      <td>0.432454</td>\n",
       "      <td>...</td>\n",
       "      <td>0.232045</td>\n",
       "      <td>0.578229</td>\n",
       "      <td>-0.037501</td>\n",
       "      <td>0.640134</td>\n",
       "      <td>0.265745</td>\n",
       "      <td>-0.087371</td>\n",
       "      <td>0.004455</td>\n",
       "      <td>-0.026561</td>\n",
       "      <td>67.88</td>\n",
       "      <td>0</td>\n",
       "    </tr>\n",
       "    <tr>\n",
       "      <th>284805</th>\n",
       "      <td>172788.0</td>\n",
       "      <td>-0.240440</td>\n",
       "      <td>0.530483</td>\n",
       "      <td>0.702510</td>\n",
       "      <td>0.689799</td>\n",
       "      <td>-0.377961</td>\n",
       "      <td>0.623708</td>\n",
       "      <td>-0.686180</td>\n",
       "      <td>0.679145</td>\n",
       "      <td>0.392087</td>\n",
       "      <td>...</td>\n",
       "      <td>0.265245</td>\n",
       "      <td>0.800049</td>\n",
       "      <td>-0.163298</td>\n",
       "      <td>0.123205</td>\n",
       "      <td>-0.569159</td>\n",
       "      <td>0.546668</td>\n",
       "      <td>0.108821</td>\n",
       "      <td>0.104533</td>\n",
       "      <td>10.00</td>\n",
       "      <td>0</td>\n",
       "    </tr>\n",
       "    <tr>\n",
       "      <th>284806</th>\n",
       "      <td>172792.0</td>\n",
       "      <td>-0.533413</td>\n",
       "      <td>-0.189733</td>\n",
       "      <td>0.703337</td>\n",
       "      <td>-0.506271</td>\n",
       "      <td>-0.012546</td>\n",
       "      <td>-0.649617</td>\n",
       "      <td>1.577006</td>\n",
       "      <td>-0.414650</td>\n",
       "      <td>0.486180</td>\n",
       "      <td>...</td>\n",
       "      <td>0.261057</td>\n",
       "      <td>0.643078</td>\n",
       "      <td>0.376777</td>\n",
       "      <td>0.008797</td>\n",
       "      <td>-0.473649</td>\n",
       "      <td>-0.818267</td>\n",
       "      <td>-0.002415</td>\n",
       "      <td>0.013649</td>\n",
       "      <td>217.00</td>\n",
       "      <td>0</td>\n",
       "    </tr>\n",
       "  </tbody>\n",
       "</table>\n",
       "<p>10 rows × 31 columns</p>\n",
       "</div>"
      ],
      "text/plain": [
       "            Time         V1         V2        V3        V4        V5  \\\n",
       "284797  172782.0  -0.241923   0.712247  0.399806 -0.463406  0.244531   \n",
       "284798  172782.0   0.219529   0.881246 -0.635891  0.960928 -0.152971   \n",
       "284799  172783.0  -1.775135  -0.004235  1.189786  0.331096  1.196063   \n",
       "284800  172784.0   2.039560  -0.175233 -1.196825  0.234580 -0.008713   \n",
       "284801  172785.0   0.120316   0.931005 -0.546012 -0.745097  1.130314   \n",
       "284802  172786.0 -11.881118  10.071785 -9.834783 -2.066656 -5.364473   \n",
       "284803  172787.0  -0.732789  -0.055080  2.035030 -0.738589  0.868229   \n",
       "284804  172788.0   1.919565  -0.301254 -3.249640 -0.557828  2.630515   \n",
       "284805  172788.0  -0.240440   0.530483  0.702510  0.689799 -0.377961   \n",
       "284806  172792.0  -0.533413  -0.189733  0.703337 -0.506271 -0.012546   \n",
       "\n",
       "              V6        V7        V8        V9  ...       V21       V22  \\\n",
       "284797 -1.343668  0.929369 -0.206210  0.106234  ... -0.228876 -0.514376   \n",
       "284798 -1.014307  0.427126  0.121340 -0.285670  ...  0.099936  0.337120   \n",
       "284799  5.519980 -1.518185  2.080825  1.159498  ...  0.103302  0.654850   \n",
       "284800 -0.726571  0.017050 -0.118228  0.435402  ... -0.268048 -0.717211   \n",
       "284801 -0.235973  0.812722  0.115093 -0.204064  ... -0.314205 -0.808520   \n",
       "284802 -2.606837 -4.918215  7.305334  1.914428  ...  0.213454  0.111864   \n",
       "284803  1.058415  0.024330  0.294869  0.584800  ...  0.214205  0.924384   \n",
       "284804  3.031260 -0.296827  0.708417  0.432454  ...  0.232045  0.578229   \n",
       "284805  0.623708 -0.686180  0.679145  0.392087  ...  0.265245  0.800049   \n",
       "284806 -0.649617  1.577006 -0.414650  0.486180  ...  0.261057  0.643078   \n",
       "\n",
       "             V23       V24       V25       V26       V27       V28  Amount  \\\n",
       "284797  0.279598  0.371441 -0.559238  0.113144  0.131507  0.081265    5.49   \n",
       "284798  0.251791  0.057688 -1.508368  0.144023  0.181205  0.215243   24.05   \n",
       "284799 -0.348929  0.745323  0.704545 -0.127579  0.454379  0.130308   79.99   \n",
       "284800  0.297930 -0.359769 -0.315610  0.201114 -0.080826 -0.075071    2.68   \n",
       "284801  0.050343  0.102800 -0.435870  0.124079  0.217940  0.068803    2.69   \n",
       "284802  1.014480 -0.509348  1.436807  0.250034  0.943651  0.823731    0.77   \n",
       "284803  0.012463 -1.016226 -0.606624 -0.395255  0.068472 -0.053527   24.79   \n",
       "284804 -0.037501  0.640134  0.265745 -0.087371  0.004455 -0.026561   67.88   \n",
       "284805 -0.163298  0.123205 -0.569159  0.546668  0.108821  0.104533   10.00   \n",
       "284806  0.376777  0.008797 -0.473649 -0.818267 -0.002415  0.013649  217.00   \n",
       "\n",
       "        Class  \n",
       "284797      0  \n",
       "284798      0  \n",
       "284799      0  \n",
       "284800      0  \n",
       "284801      0  \n",
       "284802      0  \n",
       "284803      0  \n",
       "284804      0  \n",
       "284805      0  \n",
       "284806      0  \n",
       "\n",
       "[10 rows x 31 columns]"
      ]
     },
     "execution_count": 4,
     "metadata": {},
     "output_type": "execute_result"
    }
   ],
   "source": [
    "df.tail(10)"
   ]
  },
  {
   "cell_type": "code",
   "execution_count": 5,
   "id": "c2df954f",
   "metadata": {
    "execution": {
     "iopub.execute_input": "2024-09-25T07:54:45.399222Z",
     "iopub.status.busy": "2024-09-25T07:54:45.398202Z",
     "iopub.status.idle": "2024-09-25T07:54:45.443613Z",
     "shell.execute_reply": "2024-09-25T07:54:45.442218Z"
    },
    "papermill": {
     "duration": 0.064012,
     "end_time": "2024-09-25T07:54:45.446339",
     "exception": false,
     "start_time": "2024-09-25T07:54:45.382327",
     "status": "completed"
    },
    "tags": []
   },
   "outputs": [
    {
     "name": "stdout",
     "output_type": "stream",
     "text": [
      "<class 'pandas.core.frame.DataFrame'>\n",
      "RangeIndex: 284807 entries, 0 to 284806\n",
      "Data columns (total 31 columns):\n",
      " #   Column  Non-Null Count   Dtype  \n",
      "---  ------  --------------   -----  \n",
      " 0   Time    284807 non-null  float64\n",
      " 1   V1      284807 non-null  float64\n",
      " 2   V2      284807 non-null  float64\n",
      " 3   V3      284807 non-null  float64\n",
      " 4   V4      284807 non-null  float64\n",
      " 5   V5      284807 non-null  float64\n",
      " 6   V6      284807 non-null  float64\n",
      " 7   V7      284807 non-null  float64\n",
      " 8   V8      284807 non-null  float64\n",
      " 9   V9      284807 non-null  float64\n",
      " 10  V10     284807 non-null  float64\n",
      " 11  V11     284807 non-null  float64\n",
      " 12  V12     284807 non-null  float64\n",
      " 13  V13     284807 non-null  float64\n",
      " 14  V14     284807 non-null  float64\n",
      " 15  V15     284807 non-null  float64\n",
      " 16  V16     284807 non-null  float64\n",
      " 17  V17     284807 non-null  float64\n",
      " 18  V18     284807 non-null  float64\n",
      " 19  V19     284807 non-null  float64\n",
      " 20  V20     284807 non-null  float64\n",
      " 21  V21     284807 non-null  float64\n",
      " 22  V22     284807 non-null  float64\n",
      " 23  V23     284807 non-null  float64\n",
      " 24  V24     284807 non-null  float64\n",
      " 25  V25     284807 non-null  float64\n",
      " 26  V26     284807 non-null  float64\n",
      " 27  V27     284807 non-null  float64\n",
      " 28  V28     284807 non-null  float64\n",
      " 29  Amount  284807 non-null  float64\n",
      " 30  Class   284807 non-null  int64  \n",
      "dtypes: float64(30), int64(1)\n",
      "memory usage: 67.4 MB\n"
     ]
    }
   ],
   "source": [
    "df.info()"
   ]
  },
  {
   "cell_type": "code",
   "execution_count": 6,
   "id": "4269b61b",
   "metadata": {
    "execution": {
     "iopub.execute_input": "2024-09-25T07:54:45.479107Z",
     "iopub.status.busy": "2024-09-25T07:54:45.478684Z",
     "iopub.status.idle": "2024-09-25T07:54:45.503535Z",
     "shell.execute_reply": "2024-09-25T07:54:45.502251Z"
    },
    "papermill": {
     "duration": 0.04386,
     "end_time": "2024-09-25T07:54:45.506300",
     "exception": false,
     "start_time": "2024-09-25T07:54:45.462440",
     "status": "completed"
    },
    "tags": []
   },
   "outputs": [
    {
     "data": {
      "text/plain": [
       "Time      0\n",
       "V1        0\n",
       "V2        0\n",
       "V3        0\n",
       "V4        0\n",
       "V5        0\n",
       "V6        0\n",
       "V7        0\n",
       "V8        0\n",
       "V9        0\n",
       "V10       0\n",
       "V11       0\n",
       "V12       0\n",
       "V13       0\n",
       "V14       0\n",
       "V15       0\n",
       "V16       0\n",
       "V17       0\n",
       "V18       0\n",
       "V19       0\n",
       "V20       0\n",
       "V21       0\n",
       "V22       0\n",
       "V23       0\n",
       "V24       0\n",
       "V25       0\n",
       "V26       0\n",
       "V27       0\n",
       "V28       0\n",
       "Amount    0\n",
       "Class     0\n",
       "dtype: int64"
      ]
     },
     "execution_count": 6,
     "metadata": {},
     "output_type": "execute_result"
    }
   ],
   "source": [
    "#checking for missing values\n",
    "df.isnull().sum()"
   ]
  },
  {
   "cell_type": "code",
   "execution_count": 7,
   "id": "927602e2",
   "metadata": {
    "execution": {
     "iopub.execute_input": "2024-09-25T07:54:45.537835Z",
     "iopub.status.busy": "2024-09-25T07:54:45.537423Z",
     "iopub.status.idle": "2024-09-25T07:54:45.550723Z",
     "shell.execute_reply": "2024-09-25T07:54:45.549542Z"
    },
    "papermill": {
     "duration": 0.032131,
     "end_time": "2024-09-25T07:54:45.553656",
     "exception": false,
     "start_time": "2024-09-25T07:54:45.521525",
     "status": "completed"
    },
    "tags": []
   },
   "outputs": [
    {
     "data": {
      "text/plain": [
       "Class\n",
       "0    284315\n",
       "1       492\n",
       "Name: count, dtype: int64"
      ]
     },
     "execution_count": 7,
     "metadata": {},
     "output_type": "execute_result"
    }
   ],
   "source": [
    "#dist of legit and fraud transactions\n",
    "df['Class'].value_counts()"
   ]
  },
  {
   "cell_type": "code",
   "execution_count": 8,
   "id": "44c13ee2",
   "metadata": {
    "execution": {
     "iopub.execute_input": "2024-09-25T07:54:45.587212Z",
     "iopub.status.busy": "2024-09-25T07:54:45.586735Z",
     "iopub.status.idle": "2024-09-25T07:54:45.637054Z",
     "shell.execute_reply": "2024-09-25T07:54:45.635558Z"
    },
    "papermill": {
     "duration": 0.071705,
     "end_time": "2024-09-25T07:54:45.640620",
     "exception": false,
     "start_time": "2024-09-25T07:54:45.568915",
     "status": "completed"
    },
    "tags": []
   },
   "outputs": [
    {
     "data": {
      "text/plain": [
       "(284315, 31)"
      ]
     },
     "execution_count": 8,
     "metadata": {},
     "output_type": "execute_result"
    }
   ],
   "source": [
    "#since it's an extremely unbalanced dataset, we will separate the transactions\n",
    "actual = df[df[\"Class\"] == 0]\n",
    "actual.shape\n"
   ]
  },
  {
   "cell_type": "code",
   "execution_count": 9,
   "id": "63938e8b",
   "metadata": {
    "execution": {
     "iopub.execute_input": "2024-09-25T07:54:45.674766Z",
     "iopub.status.busy": "2024-09-25T07:54:45.673578Z",
     "iopub.status.idle": "2024-09-25T07:54:45.683805Z",
     "shell.execute_reply": "2024-09-25T07:54:45.682571Z"
    },
    "papermill": {
     "duration": 0.030267,
     "end_time": "2024-09-25T07:54:45.686678",
     "exception": false,
     "start_time": "2024-09-25T07:54:45.656411",
     "status": "completed"
    },
    "tags": []
   },
   "outputs": [
    {
     "data": {
      "text/plain": [
       "(492, 31)"
      ]
     },
     "execution_count": 9,
     "metadata": {},
     "output_type": "execute_result"
    }
   ],
   "source": [
    "fake = df[df[\"Class\"] == 1]\n",
    "fake.shape"
   ]
  },
  {
   "cell_type": "code",
   "execution_count": 10,
   "id": "584a124c",
   "metadata": {
    "execution": {
     "iopub.execute_input": "2024-09-25T07:54:45.719655Z",
     "iopub.status.busy": "2024-09-25T07:54:45.718489Z",
     "iopub.status.idle": "2024-09-25T07:54:45.744401Z",
     "shell.execute_reply": "2024-09-25T07:54:45.743247Z"
    },
    "papermill": {
     "duration": 0.045347,
     "end_time": "2024-09-25T07:54:45.747204",
     "exception": false,
     "start_time": "2024-09-25T07:54:45.701857",
     "status": "completed"
    },
    "tags": []
   },
   "outputs": [
    {
     "data": {
      "text/plain": [
       "count    284315.000000\n",
       "mean         88.291022\n",
       "std         250.105092\n",
       "min           0.000000\n",
       "25%           5.650000\n",
       "50%          22.000000\n",
       "75%          77.050000\n",
       "max       25691.160000\n",
       "Name: Amount, dtype: float64"
      ]
     },
     "execution_count": 10,
     "metadata": {},
     "output_type": "execute_result"
    }
   ],
   "source": [
    "#stats on actual transactions\n",
    "#values in USD \n",
    "actual.Amount.describe()"
   ]
  },
  {
   "cell_type": "code",
   "execution_count": 11,
   "id": "b8c05b08",
   "metadata": {
    "execution": {
     "iopub.execute_input": "2024-09-25T07:54:45.782579Z",
     "iopub.status.busy": "2024-09-25T07:54:45.781459Z",
     "iopub.status.idle": "2024-09-25T07:54:45.795064Z",
     "shell.execute_reply": "2024-09-25T07:54:45.793818Z"
    },
    "papermill": {
     "duration": 0.034219,
     "end_time": "2024-09-25T07:54:45.797753",
     "exception": false,
     "start_time": "2024-09-25T07:54:45.763534",
     "status": "completed"
    },
    "tags": []
   },
   "outputs": [
    {
     "data": {
      "text/plain": [
       "count     492.000000\n",
       "mean      122.211321\n",
       "std       256.683288\n",
       "min         0.000000\n",
       "25%         1.000000\n",
       "50%         9.250000\n",
       "75%       105.890000\n",
       "max      2125.870000\n",
       "Name: Amount, dtype: float64"
      ]
     },
     "execution_count": 11,
     "metadata": {},
     "output_type": "execute_result"
    }
   ],
   "source": [
    "#stats on fake transactions\n",
    "#values in USD\n",
    "fake.Amount.describe()"
   ]
  },
  {
   "cell_type": "code",
   "execution_count": 12,
   "id": "bed93efb",
   "metadata": {
    "execution": {
     "iopub.execute_input": "2024-09-25T07:54:45.834435Z",
     "iopub.status.busy": "2024-09-25T07:54:45.833967Z",
     "iopub.status.idle": "2024-09-25T07:54:45.984719Z",
     "shell.execute_reply": "2024-09-25T07:54:45.983467Z"
    },
    "papermill": {
     "duration": 0.171159,
     "end_time": "2024-09-25T07:54:45.987716",
     "exception": false,
     "start_time": "2024-09-25T07:54:45.816557",
     "status": "completed"
    },
    "tags": []
   },
   "outputs": [
    {
     "data": {
      "text/html": [
       "<div>\n",
       "<style scoped>\n",
       "    .dataframe tbody tr th:only-of-type {\n",
       "        vertical-align: middle;\n",
       "    }\n",
       "\n",
       "    .dataframe tbody tr th {\n",
       "        vertical-align: top;\n",
       "    }\n",
       "\n",
       "    .dataframe thead th {\n",
       "        text-align: right;\n",
       "    }\n",
       "</style>\n",
       "<table border=\"1\" class=\"dataframe\">\n",
       "  <thead>\n",
       "    <tr style=\"text-align: right;\">\n",
       "      <th></th>\n",
       "      <th>Time</th>\n",
       "      <th>V1</th>\n",
       "      <th>V2</th>\n",
       "      <th>V3</th>\n",
       "      <th>V4</th>\n",
       "      <th>V5</th>\n",
       "      <th>V6</th>\n",
       "      <th>V7</th>\n",
       "      <th>V8</th>\n",
       "      <th>V9</th>\n",
       "      <th>...</th>\n",
       "      <th>V20</th>\n",
       "      <th>V21</th>\n",
       "      <th>V22</th>\n",
       "      <th>V23</th>\n",
       "      <th>V24</th>\n",
       "      <th>V25</th>\n",
       "      <th>V26</th>\n",
       "      <th>V27</th>\n",
       "      <th>V28</th>\n",
       "      <th>Amount</th>\n",
       "    </tr>\n",
       "    <tr>\n",
       "      <th>Class</th>\n",
       "      <th></th>\n",
       "      <th></th>\n",
       "      <th></th>\n",
       "      <th></th>\n",
       "      <th></th>\n",
       "      <th></th>\n",
       "      <th></th>\n",
       "      <th></th>\n",
       "      <th></th>\n",
       "      <th></th>\n",
       "      <th></th>\n",
       "      <th></th>\n",
       "      <th></th>\n",
       "      <th></th>\n",
       "      <th></th>\n",
       "      <th></th>\n",
       "      <th></th>\n",
       "      <th></th>\n",
       "      <th></th>\n",
       "      <th></th>\n",
       "      <th></th>\n",
       "    </tr>\n",
       "  </thead>\n",
       "  <tbody>\n",
       "    <tr>\n",
       "      <th>0</th>\n",
       "      <td>94838.202258</td>\n",
       "      <td>0.008258</td>\n",
       "      <td>-0.006271</td>\n",
       "      <td>0.012171</td>\n",
       "      <td>-0.007860</td>\n",
       "      <td>0.005453</td>\n",
       "      <td>0.002419</td>\n",
       "      <td>0.009637</td>\n",
       "      <td>-0.000987</td>\n",
       "      <td>0.004467</td>\n",
       "      <td>...</td>\n",
       "      <td>-0.000644</td>\n",
       "      <td>-0.001235</td>\n",
       "      <td>-0.000024</td>\n",
       "      <td>0.000070</td>\n",
       "      <td>0.000182</td>\n",
       "      <td>-0.000072</td>\n",
       "      <td>-0.000089</td>\n",
       "      <td>-0.000295</td>\n",
       "      <td>-0.000131</td>\n",
       "      <td>88.291022</td>\n",
       "    </tr>\n",
       "    <tr>\n",
       "      <th>1</th>\n",
       "      <td>80746.806911</td>\n",
       "      <td>-4.771948</td>\n",
       "      <td>3.623778</td>\n",
       "      <td>-7.033281</td>\n",
       "      <td>4.542029</td>\n",
       "      <td>-3.151225</td>\n",
       "      <td>-1.397737</td>\n",
       "      <td>-5.568731</td>\n",
       "      <td>0.570636</td>\n",
       "      <td>-2.581123</td>\n",
       "      <td>...</td>\n",
       "      <td>0.372319</td>\n",
       "      <td>0.713588</td>\n",
       "      <td>0.014049</td>\n",
       "      <td>-0.040308</td>\n",
       "      <td>-0.105130</td>\n",
       "      <td>0.041449</td>\n",
       "      <td>0.051648</td>\n",
       "      <td>0.170575</td>\n",
       "      <td>0.075667</td>\n",
       "      <td>122.211321</td>\n",
       "    </tr>\n",
       "  </tbody>\n",
       "</table>\n",
       "<p>2 rows × 30 columns</p>\n",
       "</div>"
      ],
      "text/plain": [
       "               Time        V1        V2        V3        V4        V5  \\\n",
       "Class                                                                   \n",
       "0      94838.202258  0.008258 -0.006271  0.012171 -0.007860  0.005453   \n",
       "1      80746.806911 -4.771948  3.623778 -7.033281  4.542029 -3.151225   \n",
       "\n",
       "             V6        V7        V8        V9  ...       V20       V21  \\\n",
       "Class                                          ...                       \n",
       "0      0.002419  0.009637 -0.000987  0.004467  ... -0.000644 -0.001235   \n",
       "1     -1.397737 -5.568731  0.570636 -2.581123  ...  0.372319  0.713588   \n",
       "\n",
       "            V22       V23       V24       V25       V26       V27       V28  \\\n",
       "Class                                                                         \n",
       "0     -0.000024  0.000070  0.000182 -0.000072 -0.000089 -0.000295 -0.000131   \n",
       "1      0.014049 -0.040308 -0.105130  0.041449  0.051648  0.170575  0.075667   \n",
       "\n",
       "           Amount  \n",
       "Class              \n",
       "0       88.291022  \n",
       "1      122.211321  \n",
       "\n",
       "[2 rows x 30 columns]"
      ]
     },
     "execution_count": 12,
     "metadata": {},
     "output_type": "execute_result"
    }
   ],
   "source": [
    "#comparing values\n",
    "# this gives us an understanding of the differences\n",
    "# between the 2 classes based on time and all the virtual columns\n",
    "df.groupby(\"Class\").mean()"
   ]
  },
  {
   "cell_type": "code",
   "execution_count": 13,
   "id": "45aeced0",
   "metadata": {
    "execution": {
     "iopub.execute_input": "2024-09-25T07:54:46.021684Z",
     "iopub.status.busy": "2024-09-25T07:54:46.021233Z",
     "iopub.status.idle": "2024-09-25T07:54:46.068865Z",
     "shell.execute_reply": "2024-09-25T07:54:46.067686Z"
    },
    "papermill": {
     "duration": 0.067717,
     "end_time": "2024-09-25T07:54:46.071524",
     "exception": false,
     "start_time": "2024-09-25T07:54:46.003807",
     "status": "completed"
    },
    "tags": []
   },
   "outputs": [
    {
     "data": {
      "text/html": [
       "<div>\n",
       "<style scoped>\n",
       "    .dataframe tbody tr th:only-of-type {\n",
       "        vertical-align: middle;\n",
       "    }\n",
       "\n",
       "    .dataframe tbody tr th {\n",
       "        vertical-align: top;\n",
       "    }\n",
       "\n",
       "    .dataframe thead th {\n",
       "        text-align: right;\n",
       "    }\n",
       "</style>\n",
       "<table border=\"1\" class=\"dataframe\">\n",
       "  <thead>\n",
       "    <tr style=\"text-align: right;\">\n",
       "      <th></th>\n",
       "      <th>Time</th>\n",
       "      <th>V1</th>\n",
       "      <th>V2</th>\n",
       "      <th>V3</th>\n",
       "      <th>V4</th>\n",
       "      <th>V5</th>\n",
       "      <th>V6</th>\n",
       "      <th>V7</th>\n",
       "      <th>V8</th>\n",
       "      <th>V9</th>\n",
       "      <th>...</th>\n",
       "      <th>V21</th>\n",
       "      <th>V22</th>\n",
       "      <th>V23</th>\n",
       "      <th>V24</th>\n",
       "      <th>V25</th>\n",
       "      <th>V26</th>\n",
       "      <th>V27</th>\n",
       "      <th>V28</th>\n",
       "      <th>Amount</th>\n",
       "      <th>Class</th>\n",
       "    </tr>\n",
       "  </thead>\n",
       "  <tbody>\n",
       "    <tr>\n",
       "      <th>541</th>\n",
       "      <td>406.0</td>\n",
       "      <td>-2.312227</td>\n",
       "      <td>1.951992</td>\n",
       "      <td>-1.609851</td>\n",
       "      <td>3.997906</td>\n",
       "      <td>-0.522188</td>\n",
       "      <td>-1.426545</td>\n",
       "      <td>-2.537387</td>\n",
       "      <td>1.391657</td>\n",
       "      <td>-2.770089</td>\n",
       "      <td>...</td>\n",
       "      <td>0.517232</td>\n",
       "      <td>-0.035049</td>\n",
       "      <td>-0.465211</td>\n",
       "      <td>0.320198</td>\n",
       "      <td>0.044519</td>\n",
       "      <td>0.177840</td>\n",
       "      <td>0.261145</td>\n",
       "      <td>-0.143276</td>\n",
       "      <td>0.00</td>\n",
       "      <td>1</td>\n",
       "    </tr>\n",
       "    <tr>\n",
       "      <th>623</th>\n",
       "      <td>472.0</td>\n",
       "      <td>-3.043541</td>\n",
       "      <td>-3.157307</td>\n",
       "      <td>1.088463</td>\n",
       "      <td>2.288644</td>\n",
       "      <td>1.359805</td>\n",
       "      <td>-1.064823</td>\n",
       "      <td>0.325574</td>\n",
       "      <td>-0.067794</td>\n",
       "      <td>-0.270953</td>\n",
       "      <td>...</td>\n",
       "      <td>0.661696</td>\n",
       "      <td>0.435477</td>\n",
       "      <td>1.375966</td>\n",
       "      <td>-0.293803</td>\n",
       "      <td>0.279798</td>\n",
       "      <td>-0.145362</td>\n",
       "      <td>-0.252773</td>\n",
       "      <td>0.035764</td>\n",
       "      <td>529.00</td>\n",
       "      <td>1</td>\n",
       "    </tr>\n",
       "    <tr>\n",
       "      <th>4920</th>\n",
       "      <td>4462.0</td>\n",
       "      <td>-2.303350</td>\n",
       "      <td>1.759247</td>\n",
       "      <td>-0.359745</td>\n",
       "      <td>2.330243</td>\n",
       "      <td>-0.821628</td>\n",
       "      <td>-0.075788</td>\n",
       "      <td>0.562320</td>\n",
       "      <td>-0.399147</td>\n",
       "      <td>-0.238253</td>\n",
       "      <td>...</td>\n",
       "      <td>-0.294166</td>\n",
       "      <td>-0.932391</td>\n",
       "      <td>0.172726</td>\n",
       "      <td>-0.087330</td>\n",
       "      <td>-0.156114</td>\n",
       "      <td>-0.542628</td>\n",
       "      <td>0.039566</td>\n",
       "      <td>-0.153029</td>\n",
       "      <td>239.93</td>\n",
       "      <td>1</td>\n",
       "    </tr>\n",
       "    <tr>\n",
       "      <th>6108</th>\n",
       "      <td>6986.0</td>\n",
       "      <td>-4.397974</td>\n",
       "      <td>1.358367</td>\n",
       "      <td>-2.592844</td>\n",
       "      <td>2.679787</td>\n",
       "      <td>-1.128131</td>\n",
       "      <td>-1.706536</td>\n",
       "      <td>-3.496197</td>\n",
       "      <td>-0.248778</td>\n",
       "      <td>-0.247768</td>\n",
       "      <td>...</td>\n",
       "      <td>0.573574</td>\n",
       "      <td>0.176968</td>\n",
       "      <td>-0.436207</td>\n",
       "      <td>-0.053502</td>\n",
       "      <td>0.252405</td>\n",
       "      <td>-0.657488</td>\n",
       "      <td>-0.827136</td>\n",
       "      <td>0.849573</td>\n",
       "      <td>59.00</td>\n",
       "      <td>1</td>\n",
       "    </tr>\n",
       "    <tr>\n",
       "      <th>6329</th>\n",
       "      <td>7519.0</td>\n",
       "      <td>1.234235</td>\n",
       "      <td>3.019740</td>\n",
       "      <td>-4.304597</td>\n",
       "      <td>4.732795</td>\n",
       "      <td>3.624201</td>\n",
       "      <td>-1.357746</td>\n",
       "      <td>1.713445</td>\n",
       "      <td>-0.496358</td>\n",
       "      <td>-1.282858</td>\n",
       "      <td>...</td>\n",
       "      <td>-0.379068</td>\n",
       "      <td>-0.704181</td>\n",
       "      <td>-0.656805</td>\n",
       "      <td>-1.632653</td>\n",
       "      <td>1.488901</td>\n",
       "      <td>0.566797</td>\n",
       "      <td>-0.010016</td>\n",
       "      <td>0.146793</td>\n",
       "      <td>1.00</td>\n",
       "      <td>1</td>\n",
       "    </tr>\n",
       "    <tr>\n",
       "      <th>...</th>\n",
       "      <td>...</td>\n",
       "      <td>...</td>\n",
       "      <td>...</td>\n",
       "      <td>...</td>\n",
       "      <td>...</td>\n",
       "      <td>...</td>\n",
       "      <td>...</td>\n",
       "      <td>...</td>\n",
       "      <td>...</td>\n",
       "      <td>...</td>\n",
       "      <td>...</td>\n",
       "      <td>...</td>\n",
       "      <td>...</td>\n",
       "      <td>...</td>\n",
       "      <td>...</td>\n",
       "      <td>...</td>\n",
       "      <td>...</td>\n",
       "      <td>...</td>\n",
       "      <td>...</td>\n",
       "      <td>...</td>\n",
       "      <td>...</td>\n",
       "    </tr>\n",
       "    <tr>\n",
       "      <th>252490</th>\n",
       "      <td>155829.0</td>\n",
       "      <td>-1.076581</td>\n",
       "      <td>-0.048513</td>\n",
       "      <td>1.353762</td>\n",
       "      <td>0.312521</td>\n",
       "      <td>0.495234</td>\n",
       "      <td>-0.691071</td>\n",
       "      <td>-0.407333</td>\n",
       "      <td>-0.120210</td>\n",
       "      <td>0.738290</td>\n",
       "      <td>...</td>\n",
       "      <td>0.247420</td>\n",
       "      <td>1.160543</td>\n",
       "      <td>-0.463416</td>\n",
       "      <td>0.085351</td>\n",
       "      <td>-0.669235</td>\n",
       "      <td>-0.139811</td>\n",
       "      <td>0.029725</td>\n",
       "      <td>0.204149</td>\n",
       "      <td>9.99</td>\n",
       "      <td>0</td>\n",
       "    </tr>\n",
       "    <tr>\n",
       "      <th>240066</th>\n",
       "      <td>150414.0</td>\n",
       "      <td>-0.695677</td>\n",
       "      <td>1.388148</td>\n",
       "      <td>0.361835</td>\n",
       "      <td>-0.560881</td>\n",
       "      <td>0.931707</td>\n",
       "      <td>-1.245070</td>\n",
       "      <td>1.343522</td>\n",
       "      <td>-0.298618</td>\n",
       "      <td>-0.255774</td>\n",
       "      <td>...</td>\n",
       "      <td>-0.279497</td>\n",
       "      <td>-0.627485</td>\n",
       "      <td>-0.193557</td>\n",
       "      <td>-0.063507</td>\n",
       "      <td>0.148234</td>\n",
       "      <td>-0.577946</td>\n",
       "      <td>0.220527</td>\n",
       "      <td>0.231821</td>\n",
       "      <td>9.99</td>\n",
       "      <td>0</td>\n",
       "    </tr>\n",
       "    <tr>\n",
       "      <th>40831</th>\n",
       "      <td>40420.0</td>\n",
       "      <td>1.047138</td>\n",
       "      <td>-0.145924</td>\n",
       "      <td>1.146607</td>\n",
       "      <td>1.230941</td>\n",
       "      <td>-0.538463</td>\n",
       "      <td>0.831910</td>\n",
       "      <td>-0.687129</td>\n",
       "      <td>0.372263</td>\n",
       "      <td>0.514185</td>\n",
       "      <td>...</td>\n",
       "      <td>0.011968</td>\n",
       "      <td>0.212236</td>\n",
       "      <td>-0.048414</td>\n",
       "      <td>-0.285318</td>\n",
       "      <td>0.357525</td>\n",
       "      <td>-0.364516</td>\n",
       "      <td>0.082455</td>\n",
       "      <td>0.026063</td>\n",
       "      <td>29.57</td>\n",
       "      <td>0</td>\n",
       "    </tr>\n",
       "    <tr>\n",
       "      <th>174689</th>\n",
       "      <td>122024.0</td>\n",
       "      <td>1.257264</td>\n",
       "      <td>-1.343677</td>\n",
       "      <td>-2.700447</td>\n",
       "      <td>0.351924</td>\n",
       "      <td>0.536561</td>\n",
       "      <td>-0.388732</td>\n",
       "      <td>1.171957</td>\n",
       "      <td>-0.439907</td>\n",
       "      <td>-0.262785</td>\n",
       "      <td>...</td>\n",
       "      <td>0.399282</td>\n",
       "      <td>0.336856</td>\n",
       "      <td>-0.443778</td>\n",
       "      <td>0.429442</td>\n",
       "      <td>0.247891</td>\n",
       "      <td>0.752624</td>\n",
       "      <td>-0.205120</td>\n",
       "      <td>-0.015443</td>\n",
       "      <td>443.71</td>\n",
       "      <td>0</td>\n",
       "    </tr>\n",
       "    <tr>\n",
       "      <th>255932</th>\n",
       "      <td>157467.0</td>\n",
       "      <td>-0.046614</td>\n",
       "      <td>0.929733</td>\n",
       "      <td>-0.325048</td>\n",
       "      <td>-0.197698</td>\n",
       "      <td>0.715653</td>\n",
       "      <td>-1.210116</td>\n",
       "      <td>1.238693</td>\n",
       "      <td>-0.317630</td>\n",
       "      <td>-0.210104</td>\n",
       "      <td>...</td>\n",
       "      <td>0.351163</td>\n",
       "      <td>1.055674</td>\n",
       "      <td>-0.162251</td>\n",
       "      <td>-0.179312</td>\n",
       "      <td>-0.453269</td>\n",
       "      <td>-0.154871</td>\n",
       "      <td>0.214419</td>\n",
       "      <td>0.245905</td>\n",
       "      <td>49.27</td>\n",
       "      <td>0</td>\n",
       "    </tr>\n",
       "  </tbody>\n",
       "</table>\n",
       "<p>984 rows × 31 columns</p>\n",
       "</div>"
      ],
      "text/plain": [
       "            Time        V1        V2        V3        V4        V5        V6  \\\n",
       "541        406.0 -2.312227  1.951992 -1.609851  3.997906 -0.522188 -1.426545   \n",
       "623        472.0 -3.043541 -3.157307  1.088463  2.288644  1.359805 -1.064823   \n",
       "4920      4462.0 -2.303350  1.759247 -0.359745  2.330243 -0.821628 -0.075788   \n",
       "6108      6986.0 -4.397974  1.358367 -2.592844  2.679787 -1.128131 -1.706536   \n",
       "6329      7519.0  1.234235  3.019740 -4.304597  4.732795  3.624201 -1.357746   \n",
       "...          ...       ...       ...       ...       ...       ...       ...   \n",
       "252490  155829.0 -1.076581 -0.048513  1.353762  0.312521  0.495234 -0.691071   \n",
       "240066  150414.0 -0.695677  1.388148  0.361835 -0.560881  0.931707 -1.245070   \n",
       "40831    40420.0  1.047138 -0.145924  1.146607  1.230941 -0.538463  0.831910   \n",
       "174689  122024.0  1.257264 -1.343677 -2.700447  0.351924  0.536561 -0.388732   \n",
       "255932  157467.0 -0.046614  0.929733 -0.325048 -0.197698  0.715653 -1.210116   \n",
       "\n",
       "              V7        V8        V9  ...       V21       V22       V23  \\\n",
       "541    -2.537387  1.391657 -2.770089  ...  0.517232 -0.035049 -0.465211   \n",
       "623     0.325574 -0.067794 -0.270953  ...  0.661696  0.435477  1.375966   \n",
       "4920    0.562320 -0.399147 -0.238253  ... -0.294166 -0.932391  0.172726   \n",
       "6108   -3.496197 -0.248778 -0.247768  ...  0.573574  0.176968 -0.436207   \n",
       "6329    1.713445 -0.496358 -1.282858  ... -0.379068 -0.704181 -0.656805   \n",
       "...          ...       ...       ...  ...       ...       ...       ...   \n",
       "252490 -0.407333 -0.120210  0.738290  ...  0.247420  1.160543 -0.463416   \n",
       "240066  1.343522 -0.298618 -0.255774  ... -0.279497 -0.627485 -0.193557   \n",
       "40831  -0.687129  0.372263  0.514185  ...  0.011968  0.212236 -0.048414   \n",
       "174689  1.171957 -0.439907 -0.262785  ...  0.399282  0.336856 -0.443778   \n",
       "255932  1.238693 -0.317630 -0.210104  ...  0.351163  1.055674 -0.162251   \n",
       "\n",
       "             V24       V25       V26       V27       V28  Amount  Class  \n",
       "541     0.320198  0.044519  0.177840  0.261145 -0.143276    0.00      1  \n",
       "623    -0.293803  0.279798 -0.145362 -0.252773  0.035764  529.00      1  \n",
       "4920   -0.087330 -0.156114 -0.542628  0.039566 -0.153029  239.93      1  \n",
       "6108   -0.053502  0.252405 -0.657488 -0.827136  0.849573   59.00      1  \n",
       "6329   -1.632653  1.488901  0.566797 -0.010016  0.146793    1.00      1  \n",
       "...          ...       ...       ...       ...       ...     ...    ...  \n",
       "252490  0.085351 -0.669235 -0.139811  0.029725  0.204149    9.99      0  \n",
       "240066 -0.063507  0.148234 -0.577946  0.220527  0.231821    9.99      0  \n",
       "40831  -0.285318  0.357525 -0.364516  0.082455  0.026063   29.57      0  \n",
       "174689  0.429442  0.247891  0.752624 -0.205120 -0.015443  443.71      0  \n",
       "255932 -0.179312 -0.453269 -0.154871  0.214419  0.245905   49.27      0  \n",
       "\n",
       "[984 rows x 31 columns]"
      ]
     },
     "execution_count": 13,
     "metadata": {},
     "output_type": "execute_result"
    }
   ],
   "source": [
    "#building a sample containing normal transation vs fraud\n",
    "act_samp = actual.sample(n = 492)\n",
    "#concatenate\n",
    "ndf = pd.concat([fake,act_samp], axis = 0)\n",
    "ndf"
   ]
  },
  {
   "cell_type": "code",
   "execution_count": 14,
   "id": "c8a3deb6",
   "metadata": {
    "execution": {
     "iopub.execute_input": "2024-09-25T07:54:46.107097Z",
     "iopub.status.busy": "2024-09-25T07:54:46.106644Z",
     "iopub.status.idle": "2024-09-25T07:54:46.116378Z",
     "shell.execute_reply": "2024-09-25T07:54:46.115159Z"
    },
    "papermill": {
     "duration": 0.032194,
     "end_time": "2024-09-25T07:54:46.120529",
     "exception": false,
     "start_time": "2024-09-25T07:54:46.088335",
     "status": "completed"
    },
    "tags": []
   },
   "outputs": [
    {
     "data": {
      "text/plain": [
       "Class\n",
       "1    492\n",
       "0    492\n",
       "Name: count, dtype: int64"
      ]
     },
     "execution_count": 14,
     "metadata": {},
     "output_type": "execute_result"
    }
   ],
   "source": [
    "ndf[\"Class\"].value_counts()"
   ]
  },
  {
   "cell_type": "code",
   "execution_count": 15,
   "id": "e4a59c1d",
   "metadata": {
    "execution": {
     "iopub.execute_input": "2024-09-25T07:54:46.156965Z",
     "iopub.status.busy": "2024-09-25T07:54:46.156515Z",
     "iopub.status.idle": "2024-09-25T07:54:46.190555Z",
     "shell.execute_reply": "2024-09-25T07:54:46.189233Z"
    },
    "papermill": {
     "duration": 0.056172,
     "end_time": "2024-09-25T07:54:46.193399",
     "exception": false,
     "start_time": "2024-09-25T07:54:46.137227",
     "status": "completed"
    },
    "tags": []
   },
   "outputs": [
    {
     "data": {
      "text/html": [
       "<div>\n",
       "<style scoped>\n",
       "    .dataframe tbody tr th:only-of-type {\n",
       "        vertical-align: middle;\n",
       "    }\n",
       "\n",
       "    .dataframe tbody tr th {\n",
       "        vertical-align: top;\n",
       "    }\n",
       "\n",
       "    .dataframe thead th {\n",
       "        text-align: right;\n",
       "    }\n",
       "</style>\n",
       "<table border=\"1\" class=\"dataframe\">\n",
       "  <thead>\n",
       "    <tr style=\"text-align: right;\">\n",
       "      <th></th>\n",
       "      <th>Time</th>\n",
       "      <th>V1</th>\n",
       "      <th>V2</th>\n",
       "      <th>V3</th>\n",
       "      <th>V4</th>\n",
       "      <th>V5</th>\n",
       "      <th>V6</th>\n",
       "      <th>V7</th>\n",
       "      <th>V8</th>\n",
       "      <th>V9</th>\n",
       "      <th>...</th>\n",
       "      <th>V20</th>\n",
       "      <th>V21</th>\n",
       "      <th>V22</th>\n",
       "      <th>V23</th>\n",
       "      <th>V24</th>\n",
       "      <th>V25</th>\n",
       "      <th>V26</th>\n",
       "      <th>V27</th>\n",
       "      <th>V28</th>\n",
       "      <th>Amount</th>\n",
       "    </tr>\n",
       "    <tr>\n",
       "      <th>Class</th>\n",
       "      <th></th>\n",
       "      <th></th>\n",
       "      <th></th>\n",
       "      <th></th>\n",
       "      <th></th>\n",
       "      <th></th>\n",
       "      <th></th>\n",
       "      <th></th>\n",
       "      <th></th>\n",
       "      <th></th>\n",
       "      <th></th>\n",
       "      <th></th>\n",
       "      <th></th>\n",
       "      <th></th>\n",
       "      <th></th>\n",
       "      <th></th>\n",
       "      <th></th>\n",
       "      <th></th>\n",
       "      <th></th>\n",
       "      <th></th>\n",
       "      <th></th>\n",
       "    </tr>\n",
       "  </thead>\n",
       "  <tbody>\n",
       "    <tr>\n",
       "      <th>0</th>\n",
       "      <td>97536.782520</td>\n",
       "      <td>0.081209</td>\n",
       "      <td>-0.021227</td>\n",
       "      <td>0.055461</td>\n",
       "      <td>0.004855</td>\n",
       "      <td>0.078433</td>\n",
       "      <td>0.063394</td>\n",
       "      <td>-0.016223</td>\n",
       "      <td>-0.075291</td>\n",
       "      <td>-0.031315</td>\n",
       "      <td>...</td>\n",
       "      <td>-0.008158</td>\n",
       "      <td>0.021627</td>\n",
       "      <td>-0.025191</td>\n",
       "      <td>0.015223</td>\n",
       "      <td>-0.005356</td>\n",
       "      <td>-0.032230</td>\n",
       "      <td>0.008466</td>\n",
       "      <td>-0.006368</td>\n",
       "      <td>0.016159</td>\n",
       "      <td>82.389268</td>\n",
       "    </tr>\n",
       "    <tr>\n",
       "      <th>1</th>\n",
       "      <td>80746.806911</td>\n",
       "      <td>-4.771948</td>\n",
       "      <td>3.623778</td>\n",
       "      <td>-7.033281</td>\n",
       "      <td>4.542029</td>\n",
       "      <td>-3.151225</td>\n",
       "      <td>-1.397737</td>\n",
       "      <td>-5.568731</td>\n",
       "      <td>0.570636</td>\n",
       "      <td>-2.581123</td>\n",
       "      <td>...</td>\n",
       "      <td>0.372319</td>\n",
       "      <td>0.713588</td>\n",
       "      <td>0.014049</td>\n",
       "      <td>-0.040308</td>\n",
       "      <td>-0.105130</td>\n",
       "      <td>0.041449</td>\n",
       "      <td>0.051648</td>\n",
       "      <td>0.170575</td>\n",
       "      <td>0.075667</td>\n",
       "      <td>122.211321</td>\n",
       "    </tr>\n",
       "  </tbody>\n",
       "</table>\n",
       "<p>2 rows × 30 columns</p>\n",
       "</div>"
      ],
      "text/plain": [
       "               Time        V1        V2        V3        V4        V5  \\\n",
       "Class                                                                   \n",
       "0      97536.782520  0.081209 -0.021227  0.055461  0.004855  0.078433   \n",
       "1      80746.806911 -4.771948  3.623778 -7.033281  4.542029 -3.151225   \n",
       "\n",
       "             V6        V7        V8        V9  ...       V20       V21  \\\n",
       "Class                                          ...                       \n",
       "0      0.063394 -0.016223 -0.075291 -0.031315  ... -0.008158  0.021627   \n",
       "1     -1.397737 -5.568731  0.570636 -2.581123  ...  0.372319  0.713588   \n",
       "\n",
       "            V22       V23       V24       V25       V26       V27       V28  \\\n",
       "Class                                                                         \n",
       "0     -0.025191  0.015223 -0.005356 -0.032230  0.008466 -0.006368  0.016159   \n",
       "1      0.014049 -0.040308 -0.105130  0.041449  0.051648  0.170575  0.075667   \n",
       "\n",
       "           Amount  \n",
       "Class              \n",
       "0       82.389268  \n",
       "1      122.211321  \n",
       "\n",
       "[2 rows x 30 columns]"
      ]
     },
     "execution_count": 15,
     "metadata": {},
     "output_type": "execute_result"
    }
   ],
   "source": [
    "ndf.groupby(\"Class\").mean()"
   ]
  },
  {
   "cell_type": "code",
   "execution_count": 16,
   "id": "c969b68c",
   "metadata": {
    "execution": {
     "iopub.execute_input": "2024-09-25T07:54:46.231436Z",
     "iopub.status.busy": "2024-09-25T07:54:46.230969Z",
     "iopub.status.idle": "2024-09-25T07:54:46.238544Z",
     "shell.execute_reply": "2024-09-25T07:54:46.237136Z"
    },
    "papermill": {
     "duration": 0.030546,
     "end_time": "2024-09-25T07:54:46.241355",
     "exception": false,
     "start_time": "2024-09-25T07:54:46.210809",
     "status": "completed"
    },
    "tags": []
   },
   "outputs": [],
   "source": [
    "#splitting data into features and targets\n",
    "# x is features\n",
    "# y is targets\n",
    "\n",
    "x = ndf.drop(columns = \"Class\", axis = 1)\n",
    "y = ndf[\"Class\"]"
   ]
  },
  {
   "cell_type": "code",
   "execution_count": 17,
   "id": "4196ba14",
   "metadata": {
    "execution": {
     "iopub.execute_input": "2024-09-25T07:54:46.278665Z",
     "iopub.status.busy": "2024-09-25T07:54:46.277940Z",
     "iopub.status.idle": "2024-09-25T07:54:46.291007Z",
     "shell.execute_reply": "2024-09-25T07:54:46.289647Z"
    },
    "papermill": {
     "duration": 0.035399,
     "end_time": "2024-09-25T07:54:46.293668",
     "exception": false,
     "start_time": "2024-09-25T07:54:46.258269",
     "status": "completed"
    },
    "tags": []
   },
   "outputs": [],
   "source": [
    "# training and testing\n",
    "\n",
    "x_train, x_test, y_train, y_test = train_test_split(x, y, test_size =0.2, \n",
    "                                                    stratify = y, random_state = 2)"
   ]
  },
  {
   "cell_type": "code",
   "execution_count": 18,
   "id": "0be0e38a",
   "metadata": {
    "execution": {
     "iopub.execute_input": "2024-09-25T07:54:46.330238Z",
     "iopub.status.busy": "2024-09-25T07:54:46.329805Z",
     "iopub.status.idle": "2024-09-25T07:54:46.338503Z",
     "shell.execute_reply": "2024-09-25T07:54:46.337052Z"
    },
    "papermill": {
     "duration": 0.030817,
     "end_time": "2024-09-25T07:54:46.342057",
     "exception": false,
     "start_time": "2024-09-25T07:54:46.311240",
     "status": "completed"
    },
    "tags": []
   },
   "outputs": [
    {
     "name": "stdout",
     "output_type": "stream",
     "text": [
      "(984, 30) (787, 30) (197, 30)\n",
      "(984,) (787,) (197,)\n"
     ]
    }
   ],
   "source": [
    "print(x.shape, x_train.shape, x_test.shape)\n",
    "print(y.shape, y_train.shape, y_test.shape)"
   ]
  },
  {
   "cell_type": "markdown",
   "id": "f61248a5",
   "metadata": {
    "papermill": {
     "duration": 0.018186,
     "end_time": "2024-09-25T07:54:46.378052",
     "exception": false,
     "start_time": "2024-09-25T07:54:46.359866",
     "status": "completed"
    },
    "tags": []
   },
   "source": [
    "Using Logistic Regression from SKLEARN"
   ]
  },
  {
   "cell_type": "code",
   "execution_count": 19,
   "id": "ab5bc81b",
   "metadata": {
    "execution": {
     "iopub.execute_input": "2024-09-25T07:54:46.416232Z",
     "iopub.status.busy": "2024-09-25T07:54:46.415806Z",
     "iopub.status.idle": "2024-09-25T07:54:46.423168Z",
     "shell.execute_reply": "2024-09-25T07:54:46.421497Z"
    },
    "papermill": {
     "duration": 0.030357,
     "end_time": "2024-09-25T07:54:46.426136",
     "exception": false,
     "start_time": "2024-09-25T07:54:46.395779",
     "status": "completed"
    },
    "tags": []
   },
   "outputs": [],
   "source": [
    "model = LogisticRegression(max_iter = 500)"
   ]
  },
  {
   "cell_type": "code",
   "execution_count": 20,
   "id": "d9852c08",
   "metadata": {
    "execution": {
     "iopub.execute_input": "2024-09-25T07:54:46.463118Z",
     "iopub.status.busy": "2024-09-25T07:54:46.462677Z",
     "iopub.status.idle": "2024-09-25T07:54:46.585192Z",
     "shell.execute_reply": "2024-09-25T07:54:46.583448Z"
    },
    "papermill": {
     "duration": 0.145525,
     "end_time": "2024-09-25T07:54:46.589700",
     "exception": false,
     "start_time": "2024-09-25T07:54:46.444175",
     "status": "completed"
    },
    "tags": []
   },
   "outputs": [
    {
     "data": {
      "text/html": [
       "<style>#sk-container-id-1 {color: black;background-color: white;}#sk-container-id-1 pre{padding: 0;}#sk-container-id-1 div.sk-toggleable {background-color: white;}#sk-container-id-1 label.sk-toggleable__label {cursor: pointer;display: block;width: 100%;margin-bottom: 0;padding: 0.3em;box-sizing: border-box;text-align: center;}#sk-container-id-1 label.sk-toggleable__label-arrow:before {content: \"▸\";float: left;margin-right: 0.25em;color: #696969;}#sk-container-id-1 label.sk-toggleable__label-arrow:hover:before {color: black;}#sk-container-id-1 div.sk-estimator:hover label.sk-toggleable__label-arrow:before {color: black;}#sk-container-id-1 div.sk-toggleable__content {max-height: 0;max-width: 0;overflow: hidden;text-align: left;background-color: #f0f8ff;}#sk-container-id-1 div.sk-toggleable__content pre {margin: 0.2em;color: black;border-radius: 0.25em;background-color: #f0f8ff;}#sk-container-id-1 input.sk-toggleable__control:checked~div.sk-toggleable__content {max-height: 200px;max-width: 100%;overflow: auto;}#sk-container-id-1 input.sk-toggleable__control:checked~label.sk-toggleable__label-arrow:before {content: \"▾\";}#sk-container-id-1 div.sk-estimator input.sk-toggleable__control:checked~label.sk-toggleable__label {background-color: #d4ebff;}#sk-container-id-1 div.sk-label input.sk-toggleable__control:checked~label.sk-toggleable__label {background-color: #d4ebff;}#sk-container-id-1 input.sk-hidden--visually {border: 0;clip: rect(1px 1px 1px 1px);clip: rect(1px, 1px, 1px, 1px);height: 1px;margin: -1px;overflow: hidden;padding: 0;position: absolute;width: 1px;}#sk-container-id-1 div.sk-estimator {font-family: monospace;background-color: #f0f8ff;border: 1px dotted black;border-radius: 0.25em;box-sizing: border-box;margin-bottom: 0.5em;}#sk-container-id-1 div.sk-estimator:hover {background-color: #d4ebff;}#sk-container-id-1 div.sk-parallel-item::after {content: \"\";width: 100%;border-bottom: 1px solid gray;flex-grow: 1;}#sk-container-id-1 div.sk-label:hover label.sk-toggleable__label {background-color: #d4ebff;}#sk-container-id-1 div.sk-serial::before {content: \"\";position: absolute;border-left: 1px solid gray;box-sizing: border-box;top: 0;bottom: 0;left: 50%;z-index: 0;}#sk-container-id-1 div.sk-serial {display: flex;flex-direction: column;align-items: center;background-color: white;padding-right: 0.2em;padding-left: 0.2em;position: relative;}#sk-container-id-1 div.sk-item {position: relative;z-index: 1;}#sk-container-id-1 div.sk-parallel {display: flex;align-items: stretch;justify-content: center;background-color: white;position: relative;}#sk-container-id-1 div.sk-item::before, #sk-container-id-1 div.sk-parallel-item::before {content: \"\";position: absolute;border-left: 1px solid gray;box-sizing: border-box;top: 0;bottom: 0;left: 50%;z-index: -1;}#sk-container-id-1 div.sk-parallel-item {display: flex;flex-direction: column;z-index: 1;position: relative;background-color: white;}#sk-container-id-1 div.sk-parallel-item:first-child::after {align-self: flex-end;width: 50%;}#sk-container-id-1 div.sk-parallel-item:last-child::after {align-self: flex-start;width: 50%;}#sk-container-id-1 div.sk-parallel-item:only-child::after {width: 0;}#sk-container-id-1 div.sk-dashed-wrapped {border: 1px dashed gray;margin: 0 0.4em 0.5em 0.4em;box-sizing: border-box;padding-bottom: 0.4em;background-color: white;}#sk-container-id-1 div.sk-label label {font-family: monospace;font-weight: bold;display: inline-block;line-height: 1.2em;}#sk-container-id-1 div.sk-label-container {text-align: center;}#sk-container-id-1 div.sk-container {/* jupyter's `normalize.less` sets `[hidden] { display: none; }` but bootstrap.min.css set `[hidden] { display: none !important; }` so we also need the `!important` here to be able to override the default hidden behavior on the sphinx rendered scikit-learn.org. See: https://github.com/scikit-learn/scikit-learn/issues/21755 */display: inline-block !important;position: relative;}#sk-container-id-1 div.sk-text-repr-fallback {display: none;}</style><div id=\"sk-container-id-1\" class=\"sk-top-container\"><div class=\"sk-text-repr-fallback\"><pre>LogisticRegression(max_iter=500)</pre><b>In a Jupyter environment, please rerun this cell to show the HTML representation or trust the notebook. <br />On GitHub, the HTML representation is unable to render, please try loading this page with nbviewer.org.</b></div><div class=\"sk-container\" hidden><div class=\"sk-item\"><div class=\"sk-estimator sk-toggleable\"><input class=\"sk-toggleable__control sk-hidden--visually\" id=\"sk-estimator-id-1\" type=\"checkbox\" checked><label for=\"sk-estimator-id-1\" class=\"sk-toggleable__label sk-toggleable__label-arrow\">LogisticRegression</label><div class=\"sk-toggleable__content\"><pre>LogisticRegression(max_iter=500)</pre></div></div></div></div></div>"
      ],
      "text/plain": [
       "LogisticRegression(max_iter=500)"
      ]
     },
     "execution_count": 20,
     "metadata": {},
     "output_type": "execute_result"
    }
   ],
   "source": [
    "#training the model\n",
    "model.fit(x_train, y_train)"
   ]
  },
  {
   "cell_type": "code",
   "execution_count": 21,
   "id": "dc5c82a7",
   "metadata": {
    "execution": {
     "iopub.execute_input": "2024-09-25T07:54:46.676210Z",
     "iopub.status.busy": "2024-09-25T07:54:46.675296Z",
     "iopub.status.idle": "2024-09-25T07:54:46.697186Z",
     "shell.execute_reply": "2024-09-25T07:54:46.695553Z"
    },
    "papermill": {
     "duration": 0.070572,
     "end_time": "2024-09-25T07:54:46.702405",
     "exception": false,
     "start_time": "2024-09-25T07:54:46.631833",
     "status": "completed"
    },
    "tags": []
   },
   "outputs": [
    {
     "name": "stdout",
     "output_type": "stream",
     "text": [
      "Training accuracy is : 0.9466327827191868\n"
     ]
    }
   ],
   "source": [
    "# Model Evaluation on training data\n",
    "x_t = model.predict(x_train)\n",
    "a1 = accuracy_score(x_t, y_train)\n",
    "print(f\"Training accuracy is : {a1}\")"
   ]
  },
  {
   "cell_type": "code",
   "execution_count": 22,
   "id": "9d200672",
   "metadata": {
    "execution": {
     "iopub.execute_input": "2024-09-25T07:54:46.783987Z",
     "iopub.status.busy": "2024-09-25T07:54:46.782985Z",
     "iopub.status.idle": "2024-09-25T07:54:46.799979Z",
     "shell.execute_reply": "2024-09-25T07:54:46.798401Z"
    },
    "papermill": {
     "duration": 0.061877,
     "end_time": "2024-09-25T07:54:46.804137",
     "exception": false,
     "start_time": "2024-09-25T07:54:46.742260",
     "status": "completed"
    },
    "tags": []
   },
   "outputs": [
    {
     "name": "stdout",
     "output_type": "stream",
     "text": [
      "Testing accuracy is : 0.9187817258883249\n"
     ]
    }
   ],
   "source": [
    "# Model Evaluation on test data\n",
    "x_T = model.predict(x_test)\n",
    "a2 = accuracy_score(x_T, y_test)\n",
    "print(f\"Testing accuracy is : {a2}\")"
   ]
  },
  {
   "cell_type": "code",
   "execution_count": 23,
   "id": "00787b83",
   "metadata": {
    "execution": {
     "iopub.execute_input": "2024-09-25T07:54:46.846149Z",
     "iopub.status.busy": "2024-09-25T07:54:46.845693Z",
     "iopub.status.idle": "2024-09-25T07:54:46.851744Z",
     "shell.execute_reply": "2024-09-25T07:54:46.850293Z"
    },
    "papermill": {
     "duration": 0.028627,
     "end_time": "2024-09-25T07:54:46.855245",
     "exception": false,
     "start_time": "2024-09-25T07:54:46.826618",
     "status": "completed"
    },
    "tags": []
   },
   "outputs": [],
   "source": [
    "xtrain=x_train\n",
    "xtest=x_test\n",
    "ytrain=y_train\n",
    "ytest=y_test"
   ]
  },
  {
   "cell_type": "raw",
   "id": "ceba8451",
   "metadata": {
    "papermill": {
     "duration": 0.018453,
     "end_time": "2024-09-25T07:54:46.892586",
     "exception": false,
     "start_time": "2024-09-25T07:54:46.874133",
     "status": "completed"
    },
    "tags": []
   },
   "source": [
    "Creating our own Logistic Regression Model\n",
    "- Linear Evaluation\n",
    "- Cross Entropy\n",
    "- Gradient Descent"
   ]
  },
  {
   "cell_type": "code",
   "execution_count": 24,
   "id": "44e9b1c6",
   "metadata": {
    "execution": {
     "iopub.execute_input": "2024-09-25T07:54:46.931809Z",
     "iopub.status.busy": "2024-09-25T07:54:46.930311Z",
     "iopub.status.idle": "2024-09-25T07:54:46.944824Z",
     "shell.execute_reply": "2024-09-25T07:54:46.943550Z"
    },
    "papermill": {
     "duration": 0.037205,
     "end_time": "2024-09-25T07:54:46.948477",
     "exception": false,
     "start_time": "2024-09-25T07:54:46.911272",
     "status": "completed"
    },
    "tags": []
   },
   "outputs": [],
   "source": [
    "#assinging the sigmoid function it's value\n",
    "def sigmoid(a):\n",
    "    a = np.clip(a, -500, 500)\n",
    "    return 1/(1+np.exp(-a))\n",
    "    \n",
    "def accuracy(yp,yt):\n",
    "    return np.sum(yp==yt)/len(yt)\n",
    "\n",
    "class LogisticRegressionn():\n",
    "    \n",
    "    #initializing the constructor for LR\n",
    "    def __init__(self, lr=0, n_iter = 1000):\n",
    "        self.lr = lr\n",
    "        self.n_iter = n_iter\n",
    "        self.weights = None\n",
    "        self.bias = None\n",
    "    \n",
    "    \n",
    "    \n",
    "    \n",
    "    #performing the weight and bias update based on the gradient descent\n",
    "    def fit(self, x, y):\n",
    "        \n",
    "        n_samples,n_features = x.shape\n",
    "        self.weights = np.zeros(n_features)\n",
    "        self.bias = 0\n",
    "        \n",
    "        for _ in range(self.n_iter):\n",
    "            linear_pred = np.dot(x, self.weights) + self.bias\n",
    "            preds = sigmoid(linear_pred)\n",
    "            \n",
    "            dw = (1/n_samples) * np.dot(x.T,(preds-y))\n",
    "            db = (1/n_samples) * np.sum(preds-y)\n",
    "            \n",
    "            self.weights = self.weights - self.lr*dw\n",
    "            self.bias = self.bias - self.lr*db\n",
    "    \n",
    "    #predicting the values\n",
    "    def predict(self, x):\n",
    "        linear_pred = np.dot(x, self.weights) + self.bias\n",
    "        y_pred = sigmoid(linear_pred)\n",
    "        class_pred = [0 if y<0.5 else 1 for y in y_pred]\n",
    "        return class_pred\n"
   ]
  },
  {
   "cell_type": "code",
   "execution_count": 25,
   "id": "9ad58d89",
   "metadata": {
    "execution": {
     "iopub.execute_input": "2024-09-25T07:54:46.987574Z",
     "iopub.status.busy": "2024-09-25T07:54:46.987125Z",
     "iopub.status.idle": "2024-09-25T07:54:47.006138Z",
     "shell.execute_reply": "2024-09-25T07:54:47.004935Z"
    },
    "papermill": {
     "duration": 0.042223,
     "end_time": "2024-09-25T07:54:47.009691",
     "exception": false,
     "start_time": "2024-09-25T07:54:46.967468",
     "status": "completed"
    },
    "tags": []
   },
   "outputs": [],
   "source": [
    "from sklearn.preprocessing import StandardScaler\n",
    "\n",
    "scaler = StandardScaler()\n",
    "# Fit and transform the DataFrame\n",
    "x_scaled = scaler.fit_transform(xtrain)\n",
    "x_scaled_df = pd.DataFrame(x_scaled, columns=xtrain.columns)\n",
    "x_test_scaled = scaler.fit_transform(xtest)\n",
    "x_test_scaled_df = pd.DataFrame(x_test_scaled, columns=xtest.columns)"
   ]
  },
  {
   "cell_type": "code",
   "execution_count": 26,
   "id": "1ef1d374",
   "metadata": {
    "execution": {
     "iopub.execute_input": "2024-09-25T07:54:47.049251Z",
     "iopub.status.busy": "2024-09-25T07:54:47.048820Z",
     "iopub.status.idle": "2024-09-25T07:54:48.734046Z",
     "shell.execute_reply": "2024-09-25T07:54:48.732458Z"
    },
    "papermill": {
     "duration": 1.71054,
     "end_time": "2024-09-25T07:54:48.738882",
     "exception": false,
     "start_time": "2024-09-25T07:54:47.028342",
     "status": "completed"
    },
    "tags": []
   },
   "outputs": [],
   "source": [
    "model2 = LogisticRegressionn(lr=0.001, n_iter=1000)\n",
    "model2.fit(x_scaled_df, ytrain)"
   ]
  },
  {
   "cell_type": "code",
   "execution_count": 27,
   "id": "c8ea02fb",
   "metadata": {
    "execution": {
     "iopub.execute_input": "2024-09-25T07:54:48.814736Z",
     "iopub.status.busy": "2024-09-25T07:54:48.814037Z",
     "iopub.status.idle": "2024-09-25T07:54:48.831842Z",
     "shell.execute_reply": "2024-09-25T07:54:48.830329Z"
    },
    "papermill": {
     "duration": 0.062653,
     "end_time": "2024-09-25T07:54:48.838503",
     "exception": false,
     "start_time": "2024-09-25T07:54:48.775850",
     "status": "completed"
    },
    "tags": []
   },
   "outputs": [
    {
     "name": "stdout",
     "output_type": "stream",
     "text": [
      "Training accuracy is : 0.8780177890724269\n"
     ]
    }
   ],
   "source": [
    "# Model Evaluation on training data\n",
    "pred1 = model2.predict(x_scaled)\n",
    "ac1 = accuracy_score(pred1, ytrain)\n",
    "print(f\"Training accuracy is : {ac1}\")"
   ]
  },
  {
   "cell_type": "code",
   "execution_count": 28,
   "id": "9a4b2293",
   "metadata": {
    "execution": {
     "iopub.execute_input": "2024-09-25T07:54:48.918916Z",
     "iopub.status.busy": "2024-09-25T07:54:48.918194Z",
     "iopub.status.idle": "2024-09-25T07:54:50.546674Z",
     "shell.execute_reply": "2024-09-25T07:54:50.545067Z"
    },
    "papermill": {
     "duration": 1.676085,
     "end_time": "2024-09-25T07:54:50.551573",
     "exception": false,
     "start_time": "2024-09-25T07:54:48.875488",
     "status": "completed"
    },
    "tags": []
   },
   "outputs": [],
   "source": [
    "model2 = LogisticRegressionn(lr=0.005, n_iter=1000)\n",
    "model2.fit(x_scaled_df, ytrain)"
   ]
  },
  {
   "cell_type": "code",
   "execution_count": 29,
   "id": "9e0d3fcb",
   "metadata": {
    "execution": {
     "iopub.execute_input": "2024-09-25T07:54:50.630824Z",
     "iopub.status.busy": "2024-09-25T07:54:50.630120Z",
     "iopub.status.idle": "2024-09-25T07:54:50.651975Z",
     "shell.execute_reply": "2024-09-25T07:54:50.650385Z"
    },
    "papermill": {
     "duration": 0.067014,
     "end_time": "2024-09-25T07:54:50.657491",
     "exception": false,
     "start_time": "2024-09-25T07:54:50.590477",
     "status": "completed"
    },
    "tags": []
   },
   "outputs": [
    {
     "name": "stdout",
     "output_type": "stream",
     "text": [
      "Training accuracy is : 0.9034307496823379\n"
     ]
    }
   ],
   "source": [
    "# Model Evaluation on training data\n",
    "pred1 = model2.predict(x_scaled)\n",
    "ac1 = accuracy_score(pred1, ytrain)\n",
    "print(f\"Training accuracy is : {ac1}\")"
   ]
  },
  {
   "cell_type": "code",
   "execution_count": 30,
   "id": "c42cbe3f",
   "metadata": {
    "execution": {
     "iopub.execute_input": "2024-09-25T07:54:50.734274Z",
     "iopub.status.busy": "2024-09-25T07:54:50.733576Z",
     "iopub.status.idle": "2024-09-25T07:54:52.990481Z",
     "shell.execute_reply": "2024-09-25T07:54:52.989312Z"
    },
    "papermill": {
     "duration": 2.300178,
     "end_time": "2024-09-25T07:54:52.994158",
     "exception": false,
     "start_time": "2024-09-25T07:54:50.693980",
     "status": "completed"
    },
    "tags": []
   },
   "outputs": [],
   "source": [
    "model2 = LogisticRegressionn(lr=0.01, n_iter=1000)\n",
    "model2.fit(x_scaled_df, ytrain)"
   ]
  },
  {
   "cell_type": "code",
   "execution_count": 31,
   "id": "b2021193",
   "metadata": {
    "execution": {
     "iopub.execute_input": "2024-09-25T07:54:53.087771Z",
     "iopub.status.busy": "2024-09-25T07:54:53.087223Z",
     "iopub.status.idle": "2024-09-25T07:54:53.100419Z",
     "shell.execute_reply": "2024-09-25T07:54:53.099332Z"
    },
    "papermill": {
     "duration": 0.084239,
     "end_time": "2024-09-25T07:54:53.107428",
     "exception": false,
     "start_time": "2024-09-25T07:54:53.023189",
     "status": "completed"
    },
    "tags": []
   },
   "outputs": [
    {
     "name": "stdout",
     "output_type": "stream",
     "text": [
      "Training accuracy is : 0.9135959339263025\n"
     ]
    }
   ],
   "source": [
    "# Model Evaluation on training data\n",
    "pred1 = model2.predict(x_scaled)\n",
    "ac1 = accuracy_score(pred1, ytrain)\n",
    "print(f\"Training accuracy is : {ac1}\")"
   ]
  },
  {
   "cell_type": "code",
   "execution_count": 32,
   "id": "97a04665",
   "metadata": {
    "execution": {
     "iopub.execute_input": "2024-09-25T07:54:53.181467Z",
     "iopub.status.busy": "2024-09-25T07:54:53.180906Z",
     "iopub.status.idle": "2024-09-25T07:54:55.333997Z",
     "shell.execute_reply": "2024-09-25T07:54:55.332422Z"
    },
    "papermill": {
     "duration": 2.195854,
     "end_time": "2024-09-25T07:54:55.338942",
     "exception": false,
     "start_time": "2024-09-25T07:54:53.143088",
     "status": "completed"
    },
    "tags": []
   },
   "outputs": [],
   "source": [
    "model2 = LogisticRegressionn(lr=0.03, n_iter=1000)\n",
    "model2.fit(x_scaled_df, ytrain)"
   ]
  },
  {
   "cell_type": "code",
   "execution_count": 33,
   "id": "d93f832b",
   "metadata": {
    "execution": {
     "iopub.execute_input": "2024-09-25T07:54:55.416787Z",
     "iopub.status.busy": "2024-09-25T07:54:55.415881Z",
     "iopub.status.idle": "2024-09-25T07:54:55.436618Z",
     "shell.execute_reply": "2024-09-25T07:54:55.434881Z"
    },
    "papermill": {
     "duration": 0.065436,
     "end_time": "2024-09-25T07:54:55.442224",
     "exception": false,
     "start_time": "2024-09-25T07:54:55.376788",
     "status": "completed"
    },
    "tags": []
   },
   "outputs": [
    {
     "name": "stdout",
     "output_type": "stream",
     "text": [
      "Training accuracy is : 0.9440914866581956\n"
     ]
    }
   ],
   "source": [
    "# Model Evaluation on training data\n",
    "pred1 = model2.predict(x_scaled_df)\n",
    "ac1 = accuracy_score(pred1, ytrain)\n",
    "print(f\"Training accuracy is : {ac1}\")"
   ]
  },
  {
   "cell_type": "code",
   "execution_count": 34,
   "id": "eb35ee5b",
   "metadata": {
    "execution": {
     "iopub.execute_input": "2024-09-25T07:54:55.519484Z",
     "iopub.status.busy": "2024-09-25T07:54:55.518772Z",
     "iopub.status.idle": "2024-09-25T07:54:57.181699Z",
     "shell.execute_reply": "2024-09-25T07:54:57.180105Z"
    },
    "papermill": {
     "duration": 1.70736,
     "end_time": "2024-09-25T07:54:57.186792",
     "exception": false,
     "start_time": "2024-09-25T07:54:55.479432",
     "status": "completed"
    },
    "tags": []
   },
   "outputs": [],
   "source": [
    "model2 = LogisticRegressionn(lr=1, n_iter=1000)\n",
    "model2.fit(x_scaled_df, ytrain)"
   ]
  },
  {
   "cell_type": "code",
   "execution_count": 35,
   "id": "cae1f007",
   "metadata": {
    "execution": {
     "iopub.execute_input": "2024-09-25T07:54:57.267308Z",
     "iopub.status.busy": "2024-09-25T07:54:57.266583Z",
     "iopub.status.idle": "2024-09-25T07:54:57.285952Z",
     "shell.execute_reply": "2024-09-25T07:54:57.284349Z"
    },
    "papermill": {
     "duration": 0.068547,
     "end_time": "2024-09-25T07:54:57.294208",
     "exception": false,
     "start_time": "2024-09-25T07:54:57.225661",
     "status": "completed"
    },
    "tags": []
   },
   "outputs": [
    {
     "name": "stdout",
     "output_type": "stream",
     "text": [
      "Training accuracy is : 0.9555273189326556\n"
     ]
    }
   ],
   "source": [
    "# Model Evaluation on training data\n",
    "pred1 = model2.predict(x_scaled_df)\n",
    "ac1 = accuracy_score(pred1, ytrain)\n",
    "print(f\"Training accuracy is : {ac1}\")"
   ]
  },
  {
   "cell_type": "markdown",
   "id": "0ee21667",
   "metadata": {
    "papermill": {
     "duration": 0.038181,
     "end_time": "2024-09-25T07:54:57.371505",
     "exception": false,
     "start_time": "2024-09-25T07:54:57.333324",
     "status": "completed"
    },
    "tags": []
   },
   "source": [
    "training accuracy from scikit learn logistic regression model = 0.9415501905972046\n",
    "\n",
    "testing accuracy from scikit learn logistic regression model = 0.9289340101522843"
   ]
  },
  {
   "cell_type": "code",
   "execution_count": 36,
   "id": "cfecddf9",
   "metadata": {
    "execution": {
     "iopub.execute_input": "2024-09-25T07:54:57.421584Z",
     "iopub.status.busy": "2024-09-25T07:54:57.421153Z",
     "iopub.status.idle": "2024-09-25T07:54:57.429288Z",
     "shell.execute_reply": "2024-09-25T07:54:57.428150Z"
    },
    "papermill": {
     "duration": 0.031306,
     "end_time": "2024-09-25T07:54:57.432855",
     "exception": false,
     "start_time": "2024-09-25T07:54:57.401549",
     "status": "completed"
    },
    "tags": []
   },
   "outputs": [
    {
     "name": "stdout",
     "output_type": "stream",
     "text": [
      "Testing accuracy is : 0.9137055837563451\n"
     ]
    }
   ],
   "source": [
    "# Model Evaluation on testing data\n",
    "pred1 = model2.predict(x_test_scaled_df)\n",
    "ac1 = accuracy_score(pred1, ytest)\n",
    "print(f\"Testing accuracy is : {ac1}\")"
   ]
  },
  {
   "cell_type": "code",
   "execution_count": 37,
   "id": "47ac99d1",
   "metadata": {
    "execution": {
     "iopub.execute_input": "2024-09-25T07:54:57.473229Z",
     "iopub.status.busy": "2024-09-25T07:54:57.472816Z",
     "iopub.status.idle": "2024-09-25T07:54:57.490174Z",
     "shell.execute_reply": "2024-09-25T07:54:57.488806Z"
    },
    "papermill": {
     "duration": 0.041653,
     "end_time": "2024-09-25T07:54:57.493271",
     "exception": false,
     "start_time": "2024-09-25T07:54:57.451618",
     "status": "completed"
    },
    "tags": []
   },
   "outputs": [
    {
     "name": "stdout",
     "output_type": "stream",
     "text": [
      "              precision    recall  f1-score   support\n",
      "\n",
      "           0       0.89      0.95      0.92        99\n",
      "           1       0.95      0.88      0.91        98\n",
      "\n",
      "    accuracy                           0.91       197\n",
      "   macro avg       0.92      0.91      0.91       197\n",
      "weighted avg       0.92      0.91      0.91       197\n",
      "\n"
     ]
    }
   ],
   "source": [
    "from sklearn.metrics import classification_report\n",
    "#self-made logisticregression classification report\n",
    "print(classification_report(ytest, pred1))"
   ]
  },
  {
   "cell_type": "code",
   "execution_count": 38,
   "id": "df58235e",
   "metadata": {
    "execution": {
     "iopub.execute_input": "2024-09-25T07:54:57.531183Z",
     "iopub.status.busy": "2024-09-25T07:54:57.530729Z",
     "iopub.status.idle": "2024-09-25T07:54:57.546316Z",
     "shell.execute_reply": "2024-09-25T07:54:57.544715Z"
    },
    "papermill": {
     "duration": 0.037838,
     "end_time": "2024-09-25T07:54:57.549031",
     "exception": false,
     "start_time": "2024-09-25T07:54:57.511193",
     "status": "completed"
    },
    "tags": []
   },
   "outputs": [
    {
     "name": "stdout",
     "output_type": "stream",
     "text": [
      "              precision    recall  f1-score   support\n",
      "\n",
      "           0       0.91      0.93      0.92        99\n",
      "           1       0.93      0.91      0.92        98\n",
      "\n",
      "    accuracy                           0.92       197\n",
      "   macro avg       0.92      0.92      0.92       197\n",
      "weighted avg       0.92      0.92      0.92       197\n",
      "\n"
     ]
    }
   ],
   "source": [
    "#scikitlearn logisticregression classification report\n",
    "print(classification_report(ytest, x_T))"
   ]
  },
  {
   "cell_type": "code",
   "execution_count": null,
   "id": "8c87de1c",
   "metadata": {
    "papermill": {
     "duration": 0.017685,
     "end_time": "2024-09-25T07:54:57.584765",
     "exception": false,
     "start_time": "2024-09-25T07:54:57.567080",
     "status": "completed"
    },
    "tags": []
   },
   "outputs": [],
   "source": []
  }
 ],
 "metadata": {
  "kaggle": {
   "accelerator": "none",
   "dataSources": [
    {
     "datasetId": 310,
     "sourceId": 23498,
     "sourceType": "datasetVersion"
    }
   ],
   "dockerImageVersionId": 30775,
   "isGpuEnabled": false,
   "isInternetEnabled": false,
   "language": "python",
   "sourceType": "notebook"
  },
  "kernelspec": {
   "display_name": "Python 3",
   "language": "python",
   "name": "python3"
  },
  "language_info": {
   "codemirror_mode": {
    "name": "ipython",
    "version": 3
   },
   "file_extension": ".py",
   "mimetype": "text/x-python",
   "name": "python",
   "nbconvert_exporter": "python",
   "pygments_lexer": "ipython3",
   "version": "3.10.14"
  },
  "papermill": {
   "default_parameters": {},
   "duration": 24.352742,
   "end_time": "2024-09-25T07:54:58.224407",
   "environment_variables": {},
   "exception": null,
   "input_path": "__notebook__.ipynb",
   "output_path": "__notebook__.ipynb",
   "parameters": {},
   "start_time": "2024-09-25T07:54:33.871665",
   "version": "2.6.0"
  }
 },
 "nbformat": 4,
 "nbformat_minor": 5
}
